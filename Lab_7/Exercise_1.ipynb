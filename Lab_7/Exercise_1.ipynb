{
 "cells": [
  {
   "cell_type": "markdown",
   "metadata": {},
   "source": [
    "#### System specifications on which experiments were run!!! Ram-> 4GB, Core i5"
   ]
  },
  {
   "cell_type": "markdown",
   "metadata": {},
   "source": [
    "# Exercise 0: Dataset Preprocessing"
   ]
  },
  {
   "cell_type": "markdown",
   "metadata": {},
   "source": [
    "## Importing Libraries"
   ]
  },
  {
   "cell_type": "code",
   "execution_count": 642,
   "metadata": {},
   "outputs": [],
   "source": [
    "import pandas as pd\n",
    "import numpy as np\n",
    "from sklearn import neighbors\n",
    "import math\n",
    "import warnings\n",
    "import os\n",
    "import matplotlib.pyplot as plt\n",
    "plt.style.use('seaborn-whitegrid')\n",
    "warnings.filterwarnings(\"ignore\")"
   ]
  },
  {
   "cell_type": "markdown",
   "metadata": {},
   "source": [
    "### Function that return different statistics about dataset and check if has missing values\\ unequal length."
   ]
  },
  {
   "cell_type": "code",
   "execution_count": 632,
   "metadata": {},
   "outputs": [],
   "source": [
    "def merge_and_split(train_path, test_path, dataset_path):\n",
    "#     print(\"Processing \" ,dataset_path.split(\"\\\\\")[-1])\n",
    "\n",
    "    df_train = pd.read_csv(train_path,sep='\\t', header=None)\n",
    "    df_test = pd.read_csv(test_path,sep='\\t', header=None)\n",
    "    df_full = df_train.append(df_test)\n",
    "    \n",
    "    miss_value_dataset = df_full.isnull().values.any()\n",
    "\n",
    "    return dataset_path.split(\"\\\\\")[-1], df_full.shape[1]-1, len(np.unique(df_full.iloc[:,0])), df_full.shape[0],miss_value_dataset"
   ]
  },
  {
   "cell_type": "markdown",
   "metadata": {},
   "source": [
    "### Load all datasets in repository and get different statistics about each dataset. Also get list of datasets having missing value or unequal length."
   ]
  },
  {
   "cell_type": "code",
   "execution_count": 633,
   "metadata": {},
   "outputs": [],
   "source": [
    "path = \"./UCRArchive_2018\"\n",
    "dir_list = os.listdir(path) \n",
    "DatasetNames = []\n",
    "DatasetLength=[]\n",
    "DatasetClasses = []\n",
    "DatasetSamples=[]\n",
    "MissingValuesDatasets = []\n",
    "\n",
    "dir_list.remove(\"Missing_value_and_variable_length_datasets_adjusted\")\n",
    "for datasets_name in dir_list:\n",
    "    full_dataset_path = os.path.join(path,datasets_name)\n",
    "    datasets = [f for f in os.listdir(full_dataset_path) if not f.startswith('.')]\n",
    "    datasets.remove(\"README.md\")\n",
    "    train_path = full_dataset_path + \"\\\\\"+ full_dataset_path.split(\"\\\\\")[-1] + \"_TRAIN.tsv\"\n",
    "    test_path = full_dataset_path + \"\\\\\" + full_dataset_path.split(\"\\\\\")[-1] + \"_TEST.tsv\"\n",
    "\n",
    "    name, length,classes, sample, missvalueDatasets = merge_and_split(train_path, test_path,full_dataset_path)\n",
    "    DatasetNames.append(name)\n",
    "    DatasetLength.append(length)\n",
    "    DatasetClasses.append(classes)\n",
    "    DatasetSamples.append(sample)\n",
    "    if missvalueDatasets:\n",
    "        MissingValuesDatasets.append(name)"
   ]
  },
  {
   "cell_type": "markdown",
   "metadata": {},
   "source": [
    "### Interesting Statistics"
   ]
  },
  {
   "cell_type": "code",
   "execution_count": 641,
   "metadata": {},
   "outputs": [
    {
     "data": {
      "text/html": [
       "<div>\n",
       "<style scoped>\n",
       "    .dataframe tbody tr th:only-of-type {\n",
       "        vertical-align: middle;\n",
       "    }\n",
       "\n",
       "    .dataframe tbody tr th {\n",
       "        vertical-align: top;\n",
       "    }\n",
       "\n",
       "    .dataframe thead th {\n",
       "        text-align: right;\n",
       "    }\n",
       "</style>\n",
       "<table border=\"1\" class=\"dataframe\">\n",
       "  <thead>\n",
       "    <tr style=\"text-align: right;\">\n",
       "      <th></th>\n",
       "      <th>Dataset Name</th>\n",
       "      <th>Length</th>\n",
       "      <th>Total Classes</th>\n",
       "      <th>Total Samples</th>\n",
       "    </tr>\n",
       "  </thead>\n",
       "  <tbody>\n",
       "    <tr>\n",
       "      <th>0</th>\n",
       "      <td>ACSF1</td>\n",
       "      <td>1460</td>\n",
       "      <td>10</td>\n",
       "      <td>200</td>\n",
       "    </tr>\n",
       "    <tr>\n",
       "      <th>1</th>\n",
       "      <td>Adiac</td>\n",
       "      <td>176</td>\n",
       "      <td>37</td>\n",
       "      <td>781</td>\n",
       "    </tr>\n",
       "    <tr>\n",
       "      <th>2</th>\n",
       "      <td>AllGestureWiimoteX</td>\n",
       "      <td>500</td>\n",
       "      <td>10</td>\n",
       "      <td>1000</td>\n",
       "    </tr>\n",
       "    <tr>\n",
       "      <th>3</th>\n",
       "      <td>AllGestureWiimoteY</td>\n",
       "      <td>500</td>\n",
       "      <td>10</td>\n",
       "      <td>1000</td>\n",
       "    </tr>\n",
       "    <tr>\n",
       "      <th>4</th>\n",
       "      <td>AllGestureWiimoteZ</td>\n",
       "      <td>500</td>\n",
       "      <td>10</td>\n",
       "      <td>1000</td>\n",
       "    </tr>\n",
       "    <tr>\n",
       "      <th>...</th>\n",
       "      <td>...</td>\n",
       "      <td>...</td>\n",
       "      <td>...</td>\n",
       "      <td>...</td>\n",
       "    </tr>\n",
       "    <tr>\n",
       "      <th>123</th>\n",
       "      <td>Wine</td>\n",
       "      <td>234</td>\n",
       "      <td>2</td>\n",
       "      <td>111</td>\n",
       "    </tr>\n",
       "    <tr>\n",
       "      <th>124</th>\n",
       "      <td>WordSynonyms</td>\n",
       "      <td>270</td>\n",
       "      <td>25</td>\n",
       "      <td>905</td>\n",
       "    </tr>\n",
       "    <tr>\n",
       "      <th>125</th>\n",
       "      <td>Worms</td>\n",
       "      <td>900</td>\n",
       "      <td>5</td>\n",
       "      <td>258</td>\n",
       "    </tr>\n",
       "    <tr>\n",
       "      <th>126</th>\n",
       "      <td>WormsTwoClass</td>\n",
       "      <td>900</td>\n",
       "      <td>2</td>\n",
       "      <td>258</td>\n",
       "    </tr>\n",
       "    <tr>\n",
       "      <th>127</th>\n",
       "      <td>Yoga</td>\n",
       "      <td>426</td>\n",
       "      <td>2</td>\n",
       "      <td>3300</td>\n",
       "    </tr>\n",
       "  </tbody>\n",
       "</table>\n",
       "<p>128 rows × 4 columns</p>\n",
       "</div>"
      ],
      "text/plain": [
       "           Dataset Name  Length  Total Classes  Total Samples\n",
       "0                 ACSF1    1460             10            200\n",
       "1                 Adiac     176             37            781\n",
       "2    AllGestureWiimoteX     500             10           1000\n",
       "3    AllGestureWiimoteY     500             10           1000\n",
       "4    AllGestureWiimoteZ     500             10           1000\n",
       "..                  ...     ...            ...            ...\n",
       "123                Wine     234              2            111\n",
       "124        WordSynonyms     270             25            905\n",
       "125               Worms     900              5            258\n",
       "126       WormsTwoClass     900              2            258\n",
       "127                Yoga     426              2           3300\n",
       "\n",
       "[128 rows x 4 columns]"
      ]
     },
     "execution_count": 641,
     "metadata": {},
     "output_type": "execute_result"
    }
   ],
   "source": [
    "stats = pd.DataFrame({\"Dataset Name\":DatasetNames, \"Length\":DatasetLength, \"Total Classes\":DatasetClasses, \"Total Samples\":DatasetSamples })\n",
    "stats"
   ]
  },
  {
   "cell_type": "markdown",
   "metadata": {},
   "source": [
    "#### It was not possible to plot the interesting Statistics of all the datasets. So I plotted the results of first 10 datasets. You can see the statistics of all the datasets in above dataframe"
   ]
  },
  {
   "cell_type": "markdown",
   "metadata": {},
   "source": [
    "### Plot indicating the total the length of samples."
   ]
  },
  {
   "cell_type": "code",
   "execution_count": 649,
   "metadata": {},
   "outputs": [
    {
     "data": {
      "image/png": "[encoded data removed]",
      "text/plain": [
       "<Figure size 1440x432 with 1 Axes>"
      ]
     },
     "metadata": {},
     "output_type": "display_data"
    }
   ],
   "source": [
    "plt.gcf().set_size_inches(20, 6)\n",
    "plt.subplot(1, 1, 1)\n",
    "plt.title('Samples Length Plot')\n",
    "plt.scatter(DatasetNames[:10], DatasetLength[:10])\n",
    "plt.xlabel(\"Dataset Name\")\n",
    "plt.ylabel(\"Length of Dataset\");"
   ]
  },
  {
   "cell_type": "markdown",
   "metadata": {},
   "source": [
    "### Plot indicating number of classes"
   ]
  },
  {
   "cell_type": "code",
   "execution_count": 650,
   "metadata": {},
   "outputs": [
    {
     "data": {
      "image/png": "[encoded data removed]",
      "text/plain": [
       "<Figure size 1440x432 with 1 Axes>"
      ]
     },
     "metadata": {},
     "output_type": "display_data"
    }
   ],
   "source": [
    "plt.gcf().set_size_inches(20, 6)\n",
    "plt.subplot(1, 1, 1)\n",
    "plt.title('Dataset Classes Plot')\n",
    "plt.scatter(DatasetNames[:10], DatasetClasses[:10])\n",
    "plt.xlabel(\"Dataset Name\")\n",
    "plt.ylabel(\"Classes in Dataset\");"
   ]
  },
  {
   "cell_type": "markdown",
   "metadata": {},
   "source": [
    "### Plot indicating number of samples"
   ]
  },
  {
   "cell_type": "code",
   "execution_count": 651,
   "metadata": {},
   "outputs": [
    {
     "data": {
      "image/png": "[encoded data removed]",
      "text/plain": [
       "<Figure size 1440x432 with 1 Axes>"
      ]
     },
     "metadata": {},
     "output_type": "display_data"
    }
   ],
   "source": [
    "plt.gcf().set_size_inches(20, 6)\n",
    "plt.subplot(1, 1, 1)\n",
    "plt.title('Dataset Total Samples Plot')\n",
    "plt.scatter(DatasetNames[:10], DatasetSamples[:10])\n",
    "plt.xlabel(\"Dataset Name\")\n",
    "plt.ylabel(\"Total Samples in Dataset\");"
   ]
  },
  {
   "cell_type": "markdown",
   "metadata": {},
   "source": [
    "## Dataset having largest number of samples. We will work with this dataset in exercise 3"
   ]
  },
  {
   "cell_type": "code",
   "execution_count": 652,
   "metadata": {},
   "outputs": [
    {
     "data": {
      "text/plain": [
       "'Crop'"
      ]
     },
     "execution_count": 652,
     "metadata": {},
     "output_type": "execute_result"
    }
   ],
   "source": [
    "DatasetNames[np.argsort(DatasetSamples)[-3:][::-1][0]]"
   ]
  },
  {
   "cell_type": "markdown",
   "metadata": {},
   "source": [
    "### Now we will preprocess datasets having missing values or unequal lengths"
   ]
  },
  {
   "cell_type": "code",
   "execution_count": 654,
   "metadata": {},
   "outputs": [
    {
     "data": {
      "text/plain": [
       "['AllGestureWiimoteX',\n",
       " 'AllGestureWiimoteY',\n",
       " 'AllGestureWiimoteZ',\n",
       " 'DodgerLoopDay',\n",
       " 'DodgerLoopGame',\n",
       " 'DodgerLoopWeekend',\n",
       " 'GestureMidAirD1',\n",
       " 'GestureMidAirD2',\n",
       " 'GestureMidAirD3',\n",
       " 'GesturePebbleZ1',\n",
       " 'GesturePebbleZ2',\n",
       " 'MelbournePedestrian',\n",
       " 'PickupGestureWiimoteZ',\n",
       " 'PLAID',\n",
       " 'ShakeGestureWiimoteZ']"
      ]
     },
     "execution_count": 654,
     "metadata": {},
     "output_type": "execute_result"
    }
   ],
   "source": [
    "MissingValuesDatasets"
   ]
  },
  {
   "cell_type": "code",
   "execution_count": 660,
   "metadata": {},
   "outputs": [],
   "source": [
    "missing_values_or_varylength_dataset = [\"MelbournePedestrian\",\"GestureMidAirD2\", \"DodgerLoopDay\", \"DodgerLoopWeekend\", \n",
    "                                        \"DodgerLoopGame\", \"AllGestureWiimoteX\",\"AllGestureWiimoteY\", \"AllGestureWiimoteZ\", \n",
    "                                        \"PickupGestureWiimoteZ\",\"ShakeGestureWiimoteZ\", \"PLAID\", \"GesturePebbleZ1\", \n",
    "                                        \"GesturePebbleZ2\", \"GestureMidAirD1\",\"GestureMidAirD3\"]"
   ]
  },
  {
   "cell_type": "code",
   "execution_count": 667,
   "metadata": {},
   "outputs": [],
   "source": [
    "Dataset_with_missing_values = [] # lIST TO SAVE MISSING VALUES DATASET AFTER  PADING THE SAMPLES WITH 0'S ON THE LEFT.\n",
    "\n",
    "for dst in missing_values_or_varylength_dataset:\n",
    "    train_pt = \"./UCRArchive_2018\\\\\" + dst + \"\\\\\"+ dst + \"_TRAIN.tsv\"\n",
    "    test_pt = \"./UCRArchive_2018\\\\\" + dst + \"\\\\\"+ dst + \"_TEST.tsv\"\n",
    "    df_train = pd.read_csv(train_pt,sep='\\t', header=None)\n",
    "    df_test = pd.read_csv(test_pt,sep='\\t', header=None)\n",
    "    df_full = df_train.append(df_test)\n",
    "    df_train = df_full.iloc[:,1:]\n",
    "    df_test = df_full.iloc[:,0]\n",
    "    \n",
    "    ### GET THE LAST NON NAN VALUE INDEX, SUBTRACT IT FROM TOTAL COLUMNS AND SHIFT THE ROW VALUES THAT MANY TIMES \n",
    "    ### AND PAD 0'S ON LEFT\n",
    "    max_col = df_train.shape[1]\n",
    "    for i in range(df_train.shape[0]):\n",
    "        last_non_nan = df_train.iloc[i,:].last_valid_index()\n",
    "        shift_vals  = max_col - last_non_nan\n",
    "        df_train.iloc[i]= df_train.iloc[i,:].shift(periods = shift_vals, axis=0,fill_value=0)\n",
    "    \n",
    "    if np.isnan(df_train.values).any(): ### CHECK IF STILL AFTER PADDING 0'S ON LEFT, THERE IS MISSING VALUES IN DATASET OR NOT\n",
    "        Dataset_with_missing_values.append(dst)\n",
    "    "
   ]
  },
  {
   "cell_type": "markdown",
   "metadata": {},
   "source": [
    "### List of datasets having missing values."
   ]
  },
  {
   "cell_type": "code",
   "execution_count": 669,
   "metadata": {},
   "outputs": [
    {
     "data": {
      "text/plain": [
       "['MelbournePedestrian', 'DodgerLoopDay', 'DodgerLoopWeekend', 'DodgerLoopGame']"
      ]
     },
     "execution_count": 669,
     "metadata": {},
     "output_type": "execute_result"
    }
   ],
   "source": [
    "Dataset_with_missing_values"
   ]
  },
  {
   "cell_type": "markdown",
   "metadata": {},
   "source": [
    "<p>Above is list of datasets having missing values before normalizing dataset. But, if we do normalize the datasets before padding 0's to the left , then we get three additional datasets \"AllGestureWiimoteY, PickupGestureWiimoteZ, ShakeGestureWiimoteZ \" that have missing values. As, it was not mentioned in the lab that we need to do normalization before or after padding the 0's, so I pad 0's to the left before normalizing dataset. So I got only four datasets that have missing values which are shown above. </p>"
   ]
  },
  {
   "cell_type": "markdown",
   "metadata": {},
   "source": [
    "# Exercise 1"
   ]
  },
  {
   "cell_type": "markdown",
   "metadata": {},
   "source": [
    "#### List of datasets having missing values."
   ]
  },
  {
   "cell_type": "code",
   "execution_count": 670,
   "metadata": {},
   "outputs": [
    {
     "data": {
      "text/plain": [
       "['MelbournePedestrian', 'DodgerLoopDay', 'DodgerLoopWeekend', 'DodgerLoopGame']"
      ]
     },
     "execution_count": 670,
     "metadata": {},
     "output_type": "execute_result"
    }
   ],
   "source": [
    "Dataset_with_missing_values"
   ]
  },
  {
   "cell_type": "markdown",
   "metadata": {},
   "source": [
    "### Function to split the dataset into train, test and validation sets"
   ]
  },
  {
   "cell_type": "code",
   "execution_count": 672,
   "metadata": {},
   "outputs": [],
   "source": [
    "def split(df,targetcol):\n",
    "    \n",
    "    X = df\n",
    "    Y = targetcol \n",
    "    X_copy = X.copy()\n",
    "    \n",
    "    Xtrain = X_copy.sample(frac=0.70, random_state=0)\n",
    "    Xtest = X_copy.drop(Xtrain.index)\n",
    "    Xtest_copy = Xtest.copy()\n",
    "    Xtest = Xtest_copy.sample(frac=0.50, random_state=1)\n",
    "    Xvalidate = Xtest_copy.drop(Xtest.index)\n",
    "    norm_Xtrain = np.linalg.norm(Xtrain, axis = 1, keepdims = True)\n",
    "    Xtrain = Xtrain / norm_Xtrain\n",
    "    norm_Xtest = np.linalg.norm(Xtest, axis = 1, keepdims = True)\n",
    "    Xtest = Xtest / norm_Xtest\n",
    "    norm_Xval = np.linalg.norm(Xvalidate, axis = 1, keepdims = True)\n",
    "    Xval = Xvalidate / norm_Xval\n",
    "    Y_copy = Y.copy()\n",
    "    Ytrain = Y_copy.sample(frac=0.70, random_state=0)\n",
    "    Ytest = Y_copy.drop(Ytrain.index)\n",
    "    Ytest_copy = Ytest.copy()\n",
    "    Ytest = Ytest_copy.sample(frac=0.50, random_state=1)\n",
    "    Yvalidate = Ytest_copy.drop(Ytest.index)\n",
    "    Ytrain = np.matrix(Ytrain)\n",
    "    Ytest = np.matrix(Ytest)\n",
    "    Yval = np.matrix(Yvalidate)\n",
    "    \n",
    "    return Xtrain, Ytrain, Xval, Yval, Xtest, Ytest"
   ]
  },
  {
   "cell_type": "markdown",
   "metadata": {},
   "source": [
    "### Function to calculate the euclidean distance"
   ]
  },
  {
   "cell_type": "code",
   "execution_count": 673,
   "metadata": {},
   "outputs": [],
   "source": [
    "def eucl_dist2(a , b):\n",
    "    distance = np.sum(np.square(a-b),axis=1)\n",
    "    return np.sqrt(distance)"
   ]
  },
  {
   "cell_type": "code",
   "execution_count": 680,
   "metadata": {},
   "outputs": [],
   "source": [
    "def eucl_dist(a , b):\n",
    "    distance = np.sum(np.square(a-b))\n",
    "    return np.sqrt(distance)"
   ]
  },
  {
   "cell_type": "markdown",
   "metadata": {},
   "source": [
    "### Function that will impute the missing values with the the mean of its nearest K neighbors"
   ]
  },
  {
   "cell_type": "code",
   "execution_count": 681,
   "metadata": {},
   "outputs": [],
   "source": [
    "def replace_missing_values_Knn(df_train, k):\n",
    "    X = df_train.copy()\n",
    "    X = X.dropna(axis='columns')\n",
    "\n",
    "    for i, row in X.iterrows():\n",
    "        \n",
    "        if df_train.iloc[i,:].isnull().values.any():        \n",
    "            unique_id = i\n",
    "            other_rows = X[~X.index.isin([i])]\n",
    "            res = eucl_dist2(X, row)\n",
    "            srt = np.argsort(res)[1:k+1]\n",
    "            replacesment = np.mean(res[srt])\n",
    "            df_train.iloc[i,:].fillna(replacesment, inplace=True)\n",
    "\n",
    "    return df_train"
   ]
  },
  {
   "cell_type": "markdown",
   "metadata": {},
   "source": [
    "### Function to calculate the k- nearest distances of query with training dataset."
   ]
  },
  {
   "cell_type": "code",
   "execution_count": 682,
   "metadata": {},
   "outputs": [],
   "source": [
    "def best_nn(df , query , k):\n",
    "    distance =[]    \n",
    "    if k > df.shape[0]:\n",
    "        k = df.shape[0]\n",
    "        \n",
    "    distance = eucl_dist2(df, query)    \n",
    "    agg = np.argsort(distance)[:k]\n",
    "    return agg"
   ]
  },
  {
   "cell_type": "markdown",
   "metadata": {},
   "source": [
    "### Function to  calculate k-neareast neighbours and do majority voting to get final prediction"
   ]
  },
  {
   "cell_type": "code",
   "execution_count": 678,
   "metadata": {},
   "outputs": [],
   "source": [
    "def prediction(x , y , query, k):\n",
    "    predictions = []\n",
    "    \n",
    "    for index,row1 in query.iterrows():\n",
    "        k_min = best_nn(x , row1 , k)\n",
    "        m = y[k_min].tolist()\n",
    "        predictions.append(max(m , key=m.count))\n",
    "    return predictions"
   ]
  },
  {
   "cell_type": "markdown",
   "metadata": {},
   "source": [
    "### Function to get accuracy on specific dataset"
   ]
  },
  {
   "cell_type": "code",
   "execution_count": 726,
   "metadata": {},
   "outputs": [],
   "source": [
    "def accuracy(a , p):\n",
    "    count = 0\n",
    "    for i ,j in zip(a , p):\n",
    "        if (i == j):\n",
    "            count += 1\n",
    "    return (count/a.shape[0]) * 100"
   ]
  },
  {
   "cell_type": "markdown",
   "metadata": {},
   "source": [
    "### Main Function"
   ]
  },
  {
   "cell_type": "code",
   "execution_count": 727,
   "metadata": {},
   "outputs": [
    {
     "name": "stdout",
     "output_type": "stream",
     "text": [
      "##############################################-- MelbournePedestrian  Dataset--\n",
      "\n",
      "Full Dataset Shape  (3633, 25)\n",
      "Check if dataset has null values or missing values!!!  True\n",
      "\n",
      "K-nearest neighbour started!!!\n",
      "Done for prediction k:  1\n",
      "Done for prediction k:  2\n",
      "Done for prediction k:  3\n",
      "Done for prediction k:  4\n",
      "Done for prediction k:  5\n",
      "Done for prediction k:  6\n",
      "Done for prediction k:  7\n",
      "Done for prediction k:  8\n",
      "Done for prediction k:  9\n",
      "K-nearest neighbour finished!!!\n",
      "Final validation accuracies after grid search '(x-axis index - k used for prediction, y-xis index- k used for imputing!!!)'\n",
      "\n",
      "[[88.62385321 88.62385321 88.62385321 88.62385321 88.62385321 88.62385321\n",
      "  88.62385321 88.62385321 88.62385321]\n",
      " [88.62385321 88.62385321 88.62385321 88.62385321 88.62385321 88.62385321\n",
      "  88.62385321 88.62385321 88.62385321]\n",
      " [89.17431193 89.17431193 89.17431193 89.17431193 89.17431193 89.17431193\n",
      "  89.17431193 89.17431193 89.17431193]\n",
      " [89.35779817 89.35779817 89.35779817 89.35779817 89.35779817 89.35779817\n",
      "  89.35779817 89.35779817 89.35779817]\n",
      " [88.99082569 88.99082569 88.99082569 88.99082569 88.99082569 88.99082569\n",
      "  88.99082569 88.99082569 88.99082569]\n",
      " [88.62385321 88.62385321 88.62385321 88.62385321 88.62385321 88.62385321\n",
      "  88.62385321 88.62385321 88.62385321]\n",
      " [87.70642202 87.70642202 87.70642202 87.70642202 87.70642202 87.70642202\n",
      "  87.70642202 87.70642202 87.70642202]\n",
      " [87.52293578 87.52293578 87.52293578 87.52293578 87.52293578 87.52293578\n",
      "  87.52293578 87.52293578 87.52293578]\n",
      " [86.78899083 86.78899083 86.78899083 86.78899083 86.78899083 86.78899083\n",
      "  86.78899083 86.78899083 86.78899083]]\n",
      "\n",
      " Optimal K for prediction:  4  , Optimal K for imputing missing values:  1\n",
      "\n",
      "Calculating test accuracy by using optimal k values for both imputing missing value and prediction task!!!\n",
      "\n",
      "Final accuracy on test data:  89.72477064220183\n",
      "-- MelbournePedestrian  Dataset--##############################################\n",
      "\n",
      "##############################################-- DodgerLoopDay  Dataset--\n",
      "\n",
      "Full Dataset Shape  (158, 289)\n",
      "Check if dataset has null values or missing values!!!  True\n",
      "\n",
      "K-nearest neighbour started!!!\n",
      "Done for prediction k:  1\n",
      "Done for prediction k:  2\n",
      "Done for prediction k:  3\n",
      "Done for prediction k:  4\n",
      "Done for prediction k:  5\n",
      "Done for prediction k:  6\n",
      "Done for prediction k:  7\n",
      "Done for prediction k:  8\n",
      "Done for prediction k:  9\n",
      "K-nearest neighbour finished!!!\n",
      "Final validation accuracies after grid search '(x-axis index - k used for prediction, y-xis index- k used for imputing!!!)'\n",
      "\n",
      "[[56.52173913 56.52173913 56.52173913 56.52173913 56.52173913 56.52173913\n",
      "  56.52173913 56.52173913 56.52173913]\n",
      " [56.52173913 56.52173913 56.52173913 56.52173913 56.52173913 56.52173913\n",
      "  56.52173913 56.52173913 56.52173913]\n",
      " [52.17391304 52.17391304 52.17391304 52.17391304 52.17391304 52.17391304\n",
      "  52.17391304 52.17391304 52.17391304]\n",
      " [47.82608696 47.82608696 47.82608696 47.82608696 47.82608696 47.82608696\n",
      "  47.82608696 47.82608696 47.82608696]\n",
      " [43.47826087 43.47826087 43.47826087 43.47826087 43.47826087 43.47826087\n",
      "  43.47826087 43.47826087 43.47826087]\n",
      " [43.47826087 43.47826087 43.47826087 43.47826087 43.47826087 43.47826087\n",
      "  43.47826087 43.47826087 43.47826087]\n",
      " [39.13043478 39.13043478 39.13043478 39.13043478 39.13043478 39.13043478\n",
      "  39.13043478 39.13043478 39.13043478]\n",
      " [47.82608696 47.82608696 47.82608696 47.82608696 47.82608696 47.82608696\n",
      "  47.82608696 47.82608696 47.82608696]\n",
      " [47.82608696 47.82608696 47.82608696 47.82608696 47.82608696 47.82608696\n",
      "  47.82608696 47.82608696 47.82608696]]\n",
      "\n",
      " Optimal K for prediction:  1  , Optimal K for imputing missing values:  1\n",
      "\n",
      "Calculating test accuracy by using optimal k values for both imputing missing value and prediction task!!!\n",
      "\n",
      "Final accuracy on test data:  58.333333333333336\n",
      "-- DodgerLoopDay  Dataset--##############################################\n",
      "\n",
      "##############################################-- DodgerLoopWeekend  Dataset--\n",
      "\n",
      "Full Dataset Shape  (158, 289)\n",
      "Check if dataset has null values or missing values!!!  True\n",
      "\n",
      "K-nearest neighbour started!!!\n",
      "Done for prediction k:  1\n",
      "Done for prediction k:  2\n",
      "Done for prediction k:  3\n",
      "Done for prediction k:  4\n",
      "Done for prediction k:  5\n",
      "Done for prediction k:  6\n",
      "Done for prediction k:  7\n",
      "Done for prediction k:  8\n",
      "Done for prediction k:  9\n",
      "K-nearest neighbour finished!!!\n",
      "Final validation accuracies after grid search '(x-axis index - k used for prediction, y-xis index- k used for imputing!!!)'\n",
      "\n",
      "[[100. 100. 100. 100. 100. 100. 100. 100. 100.]\n",
      " [100. 100. 100. 100. 100. 100. 100. 100. 100.]\n",
      " [100. 100. 100. 100. 100. 100. 100. 100. 100.]\n",
      " [100. 100. 100. 100. 100. 100. 100. 100. 100.]\n",
      " [100. 100. 100. 100. 100. 100. 100. 100. 100.]\n",
      " [100. 100. 100. 100. 100. 100. 100. 100. 100.]\n",
      " [100. 100. 100. 100. 100. 100. 100. 100. 100.]\n",
      " [100. 100. 100. 100. 100. 100. 100. 100. 100.]\n",
      " [100. 100. 100. 100. 100. 100. 100. 100. 100.]]\n",
      "\n",
      " Optimal K for prediction:  1  , Optimal K for imputing missing values:  1\n",
      "\n",
      "Calculating test accuracy by using optimal k values for both imputing missing value and prediction task!!!\n",
      "\n",
      "Final accuracy on test data:  95.83333333333334\n",
      "-- DodgerLoopWeekend  Dataset--##############################################\n",
      "\n",
      "##############################################-- DodgerLoopGame  Dataset--\n",
      "\n",
      "Full Dataset Shape  (158, 289)\n",
      "Check if dataset has null values or missing values!!!  True\n",
      "\n",
      "K-nearest neighbour started!!!\n",
      "Done for prediction k:  1\n",
      "Done for prediction k:  2\n",
      "Done for prediction k:  3\n",
      "Done for prediction k:  4\n",
      "Done for prediction k:  5\n",
      "Done for prediction k:  6\n",
      "Done for prediction k:  7\n",
      "Done for prediction k:  8\n",
      "Done for prediction k:  9\n",
      "K-nearest neighbour finished!!!\n",
      "Final validation accuracies after grid search '(x-axis index - k used for prediction, y-xis index- k used for imputing!!!)'\n",
      "\n",
      "[[86.95652174 86.95652174 86.95652174 86.95652174 86.95652174 86.95652174\n",
      "  86.95652174 86.95652174 86.95652174]\n",
      " [86.95652174 86.95652174 86.95652174 86.95652174 86.95652174 86.95652174\n",
      "  86.95652174 86.95652174 86.95652174]\n",
      " [86.95652174 86.95652174 86.95652174 86.95652174 86.95652174 86.95652174\n",
      "  86.95652174 86.95652174 86.95652174]\n",
      " [82.60869565 82.60869565 82.60869565 82.60869565 82.60869565 82.60869565\n",
      "  82.60869565 82.60869565 82.60869565]\n",
      " [86.95652174 86.95652174 86.95652174 86.95652174 86.95652174 86.95652174\n",
      "  86.95652174 86.95652174 86.95652174]\n",
      " [86.95652174 86.95652174 86.95652174 86.95652174 86.95652174 86.95652174\n",
      "  86.95652174 86.95652174 86.95652174]\n",
      " [86.95652174 86.95652174 86.95652174 86.95652174 86.95652174 86.95652174\n",
      "  86.95652174 86.95652174 86.95652174]\n",
      " [82.60869565 82.60869565 82.60869565 82.60869565 82.60869565 82.60869565\n",
      "  82.60869565 82.60869565 82.60869565]\n",
      " [86.95652174 86.95652174 86.95652174 86.95652174 86.95652174 86.95652174\n",
      "  86.95652174 86.95652174 86.95652174]]\n",
      "\n",
      " Optimal K for prediction:  1  , Optimal K for imputing missing values:  1\n",
      "\n",
      "Calculating test accuracy by using optimal k values for both imputing missing value and prediction task!!!\n",
      "\n",
      "Final accuracy on test data:  95.83333333333334\n",
      "-- DodgerLoopGame  Dataset--##############################################\n",
      "\n"
     ]
    }
   ],
   "source": [
    "for ds in Dataset_with_missing_values:\n",
    "    \n",
    "    train_pt = \"./UCRArchive_2018\\\\\" + ds + \"\\\\\"+ ds + \"_TRAIN.tsv\"\n",
    "    test_pt = \"./UCRArchive_2018\\\\\" + ds + \"\\\\\"+ ds + \"_TEST.tsv\"\n",
    "    df_train = pd.read_csv(train_pt, sep='\\t', header=None)\n",
    "    df_test = pd.read_csv(test_pt, sep='\\t', header=None)\n",
    "    df_full = df_train.append(df_test)\n",
    "    df_full.reset_index(drop=True, inplace=True)\n",
    "    df_train = df_full.iloc[:,1:]\n",
    "    df_test = df_full.iloc[:,0]\n",
    "    \n",
    "    ### Pad the samples with 0s on the left to make it equal length sample!!!!\n",
    "    max_col = df_train.shape[1] \n",
    "    for i in range(df_train.shape[0]):\n",
    "        last_non_nan = df_train.iloc[i,:].last_valid_index()\n",
    "        shift_vals  = max_col - last_non_nan\n",
    "        df_train.iloc[i]= df_train.iloc[i,:].shift(periods = shift_vals, axis=0,fill_value=0)\n",
    "\n",
    "\n",
    "    print(\"##############################################--\",ds,\" Dataset--\\n\")\n",
    "    print(\"Full Dataset Shape \",df_full.shape )\n",
    "    print( \"Check if dataset has null values or missing values!!! \",np.isnan(df_train.values).any()) \n",
    "    print(\"\\nK-nearest neighbour started!!!\")\n",
    "\n",
    "    listAccr = np.zeros((10,10)) # I have take k range from 1 to 10 for both imputing missing value and prediction in grid search!!!\n",
    "\n",
    "    for k1 in range(1,10): # grid search to get best k for doing prediction\n",
    "        for k2 in range(1,10): # grid search to get best k for imputing\n",
    "            df_train_updated = replace_missing_values_Knn(df_train,k2) # function to impute missing values using knn \n",
    "\n",
    "            Xtrain, Ytrain, Xval, Yval, Xtest, Ytest = split(df_train_updated,df_test) # After replacing missing values do,\n",
    "                                                                                       # the spliting on updated training dataset\n",
    "            pred = prediction(Xtrain, np.array(Ytrain)[0], Xval, k1)\n",
    "            listAccr[k1,k2] = accuracy(np.array(Yval)[0], pred)\n",
    "        print(\"Done for prediction k: \", k1)\n",
    "\n",
    "    print(\"K-nearest neighbour finished!!!\")\n",
    "    print(\"Final validation accuracies after grid search '(x-axis index - k used for prediction, y-xis index- k used for imputing!!!)'\\n\")\n",
    "    print(listAccr[1:,1:])\n",
    "\n",
    "    indx = np.unravel_index(np.nanargmax(listAccr), listAccr.shape) # get maximum accuracy index\n",
    "\n",
    "    print(\"\\n Optimal K for prediction: \",indx[0], \" , Optimal K for imputing missing values: \", indx[1])\n",
    "\n",
    "    print(\"\\nCalculating test accuracy by using optimal k values for both imputing missing value and prediction task!!!\")\n",
    "    \n",
    "    ### Now do prediction on test set with optimal paramters!!!\n",
    "\n",
    "    df_train_updated = replaceKnn(df_train,indx[1])\n",
    "\n",
    "    Xtrain0, Ytrain0, Xval0, Yval0, Xtest0, Ytest0 = split(df_train_updated,df_test)\n",
    "\n",
    "    pred = prediction(Xtrain0, np.array(Ytrain0)[0], Xtest0, indx[0])\n",
    "\n",
    "    print(\"\\nFinal accuracy on test data: \", accuracy(np.array(Ytest0)[0], pred))\n",
    "    print(\"--\",ds,\" Dataset--##############################################\\n\")"
   ]
  }
 ],
 "metadata": {
  "kernelspec": {
   "display_name": "Python 3",
   "language": "python",
   "name": "python3"
  },
  "language_info": {
   "codemirror_mode": {
    "name": "ipython",
    "version": 3
   },
   "file_extension": ".py",
   "mimetype": "text/x-python",
   "name": "python",
   "nbconvert_exporter": "python",
   "pygments_lexer": "ipython3",
   "version": "3.7.7"
  }
 },
 "nbformat": 4,
 "nbformat_minor": 4
}

{
 "cells": [
  {
   "cell_type": "markdown",
   "metadata": {},
   "source": [
    "## Importing Libraries"
   ]
  },
  {
   "cell_type": "code",
   "execution_count": 24,
   "metadata": {},
   "outputs": [],
   "source": [
    "from sklearn import datasets ### I have loaded dataset from sklearn. It is same as the dataset in the mentioned \n",
    "                            ###  online repository\n",
    "import pandas as pd\n",
    "import numpy as np\n",
    "from collections import Counter\n",
    "import matplotlib.pyplot as plt"
   ]
  },
  {
   "cell_type": "markdown",
   "metadata": {},
   "source": [
    "## Helper Functions"
   ]
  },
  {
   "cell_type": "markdown",
   "metadata": {},
   "source": [
    "### Function to calculate Misclassification Rate (MCR) "
   ]
  },
  {
   "cell_type": "code",
   "execution_count": 26,
   "metadata": {},
   "outputs": [],
   "source": [
    "def calculate_error(data,s_feature,target_feature):\n",
    "    errors=[]\n",
    "    vals = np.unique(data[s_feature])\n",
    "    \n",
    "    for val in vals:\n",
    "        ys = data[data[s_feature]==val]\n",
    "        ns = data[data[s_feature]!=val]\n",
    "        \n",
    "        ys_count = Counter(ys[target_feature])\n",
    "        ys_class = ys_count.most_common(1)[0][0]\n",
    "        error_ys = len(ys[ys[target_feature] !=ys_class])\n",
    "        \n",
    "        ns_count = Counter(ns[target_feature])\n",
    "        ns_class = ns_count.most_common(1)[0][0]\n",
    "        error_ns = len(ns[ns[target_feature] !=ns_class])\n",
    "        total_Erros = error_ys+error_ns\n",
    "        errors.append(total_Erros)\n",
    "    return np.min(errors)"
   ]
  },
  {
   "cell_type": "markdown",
   "metadata": {},
   "source": [
    "### Function that builds tree and perform split using Misclassification Rate (MCR) as quality criteria"
   ]
  },
  {
   "cell_type": "code",
   "execution_count": 27,
   "metadata": {},
   "outputs": [],
   "source": [
    "def DT_MCR(data, originaldata, features, max_dept ,target_feature=\"target\", parent = None, level=0): \n",
    "    \n",
    " \n",
    "    if (len(np.unique(data[target_feature])) <= 1): ### checking if all the values are same if yes then we reached at a leaf\n",
    "    \n",
    "        elements,counts = np.unique(data[target_feature],return_counts = True)\n",
    "        print('Level ',level)\n",
    "        if elements ==0 :\n",
    "            print('Count of 0 =',np.sum(counts))\n",
    "        elif elements ==1 :\n",
    "            print('Count of 1 =',np.sum(counts))\n",
    "        elif elements ==2 :\n",
    "            print('Count of 2 =',np.sum(counts))\n",
    "        print('Reached Leaf Node ')\n",
    "        print()\n",
    "         \n",
    "        return np.unique(data[target_feature])[0]\n",
    "    \n",
    "    elif len(data) == 0:### checking the data is empty or not\n",
    "       \n",
    "        return np.unique(orignaldata[target_feature])[0]\n",
    "    \n",
    "    elif len(features) == 0 :\n",
    "        \n",
    "        return parent[0]\n",
    "    elif level==max_dept:\n",
    "        c = Counter(data[target_feature])\n",
    "        return c.most_common(1)[0][0]\n",
    "    \n",
    "    else :\n",
    "\n",
    "        P_node = np.unique(data[target_feature])### put all the uniqe values of target in parent node\n",
    "        \n",
    "        values = []\n",
    "        for ftr in features : ### loop over all the features\n",
    "            v = calculate_error(data,ftr,target_feature) ### getting list of MCR of all features\n",
    "            values.append(v)\n",
    "        \n",
    "        best_feature_index = np.argmin(values)### taking out the index of the feture which contains max information gain\n",
    "        best_feature = features[best_feature_index]\n",
    "        \n",
    "        tree = {best_feature:{}} ### using dictionaris to show my actual tree\n",
    "        \n",
    "        elements,counts = np.unique(data[target_feature],return_counts = True)\n",
    "        print('Level ',level)  \n",
    "        for i in range(len(elements)):\n",
    "            if elements[i]==0 :\n",
    "                print('count of 0  =',counts[i])\n",
    "            elif elements[i]==1 :\n",
    "                print('count of 1  =',counts[i])\n",
    "            elif elements[i]==2 :\n",
    "                print('count of 2  =',counts[i])\n",
    "                \n",
    "        plt.bar(elements, counts/len(data))\n",
    "        plt.xticks(elements, ['setosa','versicolor','virginica'])\n",
    "        plt.xlabel('Class')\n",
    "        plt.ylabel('Probability')\n",
    "        title = 'Probability of Each class At Level: ' + str(level+1)\n",
    "        plt.title(title)\n",
    "        \n",
    "        plt.show()\n",
    "      \n",
    "        print('Splitting on feature: ',best_feature,' with MCR: ', values[best_feature_index])\n",
    "        \n",
    "        print()\n",
    "        \n",
    "        \n",
    "        new_features = features \n",
    "        features=[]\n",
    "        for i in new_features :###to remove the feature from feature list after split                     \n",
    "                                                   \n",
    "            if i != best_feature :                  \n",
    "                features.append(i)\n",
    "        level += 1       \n",
    "        new_features=None \n",
    "        \n",
    "        for vals in np.unique(data[best_feature]):### recursion of all diffrent values in that splitting feature\n",
    "            \n",
    "            value = vals\n",
    "            sub_data = (data[data[best_feature] == value]).dropna()\n",
    "            subtree = DT_MCR(sub_data, data, features, max_dept ,target_feature, P_node, level)\n",
    "            tree[best_feature][value] = subtree\n",
    "            \n",
    "        return tree "
   ]
  },
  {
   "cell_type": "markdown",
   "metadata": {},
   "source": [
    "### Function to get prediction for given observation/row"
   ]
  },
  {
   "cell_type": "code",
   "execution_count": 28,
   "metadata": {},
   "outputs": [],
   "source": [
    "def myprint(d, sr,val):\n",
    "    keys = []\n",
    "    vals = []\n",
    "    \n",
    "    for k, v in d.items():\n",
    "        if isinstance(v, dict):\n",
    "            keys=k\n",
    "            vals = v\n",
    "    \n",
    "    if val is 3:\n",
    "        key = list(d.keys())[0]\n",
    "        fn = d[key][sr[key]]\n",
    "        return fn\n",
    "        \n",
    "    if bool(keys):\n",
    "        vl = sr[keys]\n",
    "        valordict = vals[vl]\n",
    "        \n",
    "        if isinstance(valordict, dict):\n",
    "            return myprint(valordict, sr, val=val+1)\n",
    "        else:\n",
    "            return valordict"
   ]
  },
  {
   "cell_type": "markdown",
   "metadata": {},
   "source": [
    "### Function to split the dataset into train, validate, test set"
   ]
  },
  {
   "cell_type": "code",
   "execution_count": 29,
   "metadata": {},
   "outputs": [],
   "source": [
    "def split(df,st):\n",
    "    \n",
    "    X = df\n",
    "    X_copy = X.copy()\n",
    "    train = X_copy.sample(frac=0.70, random_state=st)\n",
    "    test = X_copy.drop(train.index)\n",
    "    test_copy = test.copy()\n",
    "    test = test_copy.sample(frac=0.50, random_state=st)\n",
    "    validate = test_copy.drop(test.index)\n",
    "    \n",
    "    return train, validate , test"
   ]
  },
  {
   "cell_type": "markdown",
   "metadata": {},
   "source": [
    "## Function to convert the numeric label to categorical"
   ]
  },
  {
   "cell_type": "code",
   "execution_count": 30,
   "metadata": {},
   "outputs": [],
   "source": [
    "### This function make 4 bins of column data and convert them to categorical data accordingly.\n",
    "### Here a -- represents -- => values ranges from 0 to 25 % of mean of column <= --\n",
    "### Here b -- represents -- => values ranges from 25 to 50 % of mean of column <= --\n",
    "### Here c -- represents -- => values ranges from 50 to 75 % of mean of column <= --\n",
    "### Here d -- represents -- => values ranges from 75 to 100 % of mean of column <= --\n",
    "\n",
    "def label(val, *boundaries):\n",
    "    if (val < boundaries[0]):\n",
    "        return 'a'\n",
    "    elif (val < boundaries[1]):\n",
    "        return 'b'\n",
    "    elif (val < boundaries[2]):\n",
    "        return 'c'\n",
    "    else:\n",
    "        return 'd'\n",
    "\n",
    "def toLabel(df, old_feature_name):\n",
    "    second = df[old_feature_name].mean()\n",
    "    minimum = df[old_feature_name].min()\n",
    "    first = (minimum + second)/2\n",
    "    maximum = df[old_feature_name].max()\n",
    "    third = (maximum + second)/2\n",
    "    return df[old_feature_name].apply(label, args= (first, second, third))"
   ]
  },
  {
   "cell_type": "markdown",
   "metadata": {},
   "source": [
    "### Function to load the dataset and convert it to categorical data"
   ]
  },
  {
   "cell_type": "code",
   "execution_count": 31,
   "metadata": {},
   "outputs": [],
   "source": [
    "def load_dataset():\n",
    "    iris = datasets.load_iris()\n",
    "\n",
    "    df = pd.DataFrame(iris.data)\n",
    "    df.columns = [\"sl\", \"sw\", 'pl', 'pw']\n",
    "    y = pd.DataFrame(iris.target)\n",
    "    y.columns = ['target']\n",
    "\n",
    "\n",
    "    #Convert all columns to labelled data\n",
    "    df['sepal_length'] = toLabel(df, 'sl')\n",
    "    df['sepal_width'] = toLabel(df, 'sw')\n",
    "    df['petal_length'] = toLabel(df, 'pl')\n",
    "    df['petal_width'] = toLabel(df, 'pw')\n",
    "\n",
    "    df.head()\n",
    "    df.drop(['sl', 'sw', 'pl', 'pw'], axis = 1, inplace = True)    \n",
    "    df['target']=y                                                    # here i added the target column  in the data\n",
    "    \n",
    "    return df"
   ]
  },
  {
   "cell_type": "markdown",
   "metadata": {},
   "source": [
    "# Exercise 1: Part A)"
   ]
  },
  {
   "cell_type": "markdown",
   "metadata": {},
   "source": [
    "### load and train decison tree"
   ]
  },
  {
   "cell_type": "code",
   "execution_count": 32,
   "metadata": {},
   "outputs": [],
   "source": [
    "df = load_dataset()\n",
    "train,validate,test = split(df, st=5)"
   ]
  },
  {
   "cell_type": "markdown",
   "metadata": {},
   "source": [
    "### Build decision trees with different depts [1 to 4], MCR  as Quality Criteria and test it on validation set \n",
    "\n",
    "<p> A bar plot make more sense to represent data if we have less number of classes. So I have used bar plot to show probability of each classe instead of histogram. </p>"
   ]
  },
  {
   "cell_type": "code",
   "execution_count": 33,
   "metadata": {},
   "outputs": [
    {
     "name": "stdout",
     "output_type": "stream",
     "text": [
      "#########-- Start --- Building tree with dept:  1  --- ###################\n",
      "\n",
      "Level  0\n",
      "count of 0  = 34\n",
      "count of 1  = 39\n",
      "count of 2  = 32\n"
     ]
    },
    {
     "data": {
      "image/png": "[encoded data removed]",
      "text/plain": [
       "<Figure size 432x288 with 1 Axes>"
      ]
     },
     "metadata": {
      "needs_background": "light"
     },
     "output_type": "display_data"
    },
    {
     "name": "stdout",
     "output_type": "stream",
     "text": [
      "Splitting on feature:  petal_length  with MCR:  32\n",
      "\n",
      "Level  1\n",
      "Count of 0 = 34\n",
      "Reached Leaf Node \n",
      "\n",
      "Level  1\n",
      "Count of 1 = 7\n",
      "Reached Leaf Node \n",
      "\n",
      "Level  1\n",
      "Count of 2 = 17\n",
      "Reached Leaf Node \n",
      "\n",
      "\n",
      "---------------------------------------------------------\n",
      "Total loss:  0.45198512374305727  with dept of tree:  1\n",
      "---------------------------------------------------------\n",
      "###################--- Building tree with dept:  1  ---End -- ############\n",
      "\n",
      "\n",
      "#########-- Start --- Building tree with dept:  2  --- ###################\n",
      "\n",
      "Level  0\n",
      "count of 0  = 34\n",
      "count of 1  = 39\n",
      "count of 2  = 32\n"
     ]
    },
    {
     "data": {
      "image/png": "[encoded data removed]",
      "text/plain": [
       "<Figure size 432x288 with 1 Axes>"
      ]
     },
     "metadata": {
      "needs_background": "light"
     },
     "output_type": "display_data"
    },
    {
     "name": "stdout",
     "output_type": "stream",
     "text": [
      "Splitting on feature:  petal_length  with MCR:  32\n",
      "\n",
      "Level  1\n",
      "Count of 0 = 34\n",
      "Reached Leaf Node \n",
      "\n",
      "Level  1\n",
      "Count of 1 = 7\n",
      "Reached Leaf Node \n",
      "\n",
      "Level  1\n",
      "count of 1  = 32\n",
      "count of 2  = 15\n"
     ]
    },
    {
     "data": {
      "image/png": "[encoded data removed]",
      "text/plain": [
       "<Figure size 432x288 with 1 Axes>"
      ]
     },
     "metadata": {
      "needs_background": "light"
     },
     "output_type": "display_data"
    },
    {
     "name": "stdout",
     "output_type": "stream",
     "text": [
      "Splitting on feature:  petal_width  with MCR:  7\n",
      "\n",
      "Level  2\n",
      "Count of 1 = 1\n",
      "Reached Leaf Node \n",
      "\n",
      "Level  2\n",
      "Count of 2 = 8\n",
      "Reached Leaf Node \n",
      "\n",
      "Level  1\n",
      "Count of 2 = 17\n",
      "Reached Leaf Node \n",
      "\n",
      "\n",
      "---------------------------------------------------------\n",
      "Total loss:  0.0953101798043249  with dept of tree:  2\n",
      "---------------------------------------------------------\n",
      "###################--- Building tree with dept:  2  ---End -- ############\n",
      "\n",
      "\n",
      "#########-- Start --- Building tree with dept:  3  --- ###################\n",
      "\n",
      "Level  0\n",
      "count of 0  = 34\n",
      "count of 1  = 39\n",
      "count of 2  = 32\n"
     ]
    },
    {
     "data": {
      "image/png": "[encoded data removed]",
      "text/plain": [
       "<Figure size 432x288 with 1 Axes>"
      ]
     },
     "metadata": {
      "needs_background": "light"
     },
     "output_type": "display_data"
    },
    {
     "name": "stdout",
     "output_type": "stream",
     "text": [
      "Splitting on feature:  petal_length  with MCR:  32\n",
      "\n",
      "Level  1\n",
      "Count of 0 = 34\n",
      "Reached Leaf Node \n",
      "\n",
      "Level  1\n",
      "Count of 1 = 7\n",
      "Reached Leaf Node \n",
      "\n",
      "Level  1\n",
      "count of 1  = 32\n",
      "count of 2  = 15\n"
     ]
    },
    {
     "data": {
      "image/png": "[encoded data removed]",
      "text/plain": [
       "<Figure size 432x288 with 1 Axes>"
      ]
     },
     "metadata": {
      "needs_background": "light"
     },
     "output_type": "display_data"
    },
    {
     "name": "stdout",
     "output_type": "stream",
     "text": [
      "Splitting on feature:  petal_width  with MCR:  7\n",
      "\n",
      "Level  2\n",
      "Count of 1 = 1\n",
      "Reached Leaf Node \n",
      "\n",
      "Level  2\n",
      "count of 1  = 31\n",
      "count of 2  = 7\n"
     ]
    },
    {
     "data": {
      "image/png": "[encoded data removed]",
      "text/plain": [
       "<Figure size 432x288 with 1 Axes>"
      ]
     },
     "metadata": {
      "needs_background": "light"
     },
     "output_type": "display_data"
    },
    {
     "name": "stdout",
     "output_type": "stream",
     "text": [
      "Splitting on feature:  sepal_length  with MCR:  7\n",
      "\n",
      "Level  3\n",
      "Count of 1 = 13\n",
      "Reached Leaf Node \n",
      "\n",
      "Level  3\n",
      "Count of 1 = 2\n",
      "Reached Leaf Node \n",
      "\n",
      "Level  2\n",
      "Count of 2 = 8\n",
      "Reached Leaf Node \n",
      "\n",
      "Level  1\n",
      "Count of 2 = 17\n",
      "Reached Leaf Node \n",
      "\n",
      "\n",
      "---------------------------------------------------------\n",
      "Total loss:  2.3978952727983707  with dept of tree:  3\n",
      "---------------------------------------------------------\n",
      "###################--- Building tree with dept:  3  ---End -- ############\n",
      "\n",
      "\n",
      "#########-- Start --- Building tree with dept:  4  --- ###################\n",
      "\n",
      "Level  0\n",
      "count of 0  = 34\n",
      "count of 1  = 39\n",
      "count of 2  = 32\n"
     ]
    },
    {
     "data": {
      "image/png": "[encoded data removed]",
      "text/plain": [
       "<Figure size 432x288 with 1 Axes>"
      ]
     },
     "metadata": {
      "needs_background": "light"
     },
     "output_type": "display_data"
    },
    {
     "name": "stdout",
     "output_type": "stream",
     "text": [
      "Splitting on feature:  petal_length  with MCR:  32\n",
      "\n",
      "Level  1\n",
      "Count of 0 = 34\n",
      "Reached Leaf Node \n",
      "\n",
      "Level  1\n",
      "Count of 1 = 7\n",
      "Reached Leaf Node \n",
      "\n",
      "Level  1\n",
      "count of 1  = 32\n",
      "count of 2  = 15\n"
     ]
    },
    {
     "data": {
      "image/png": "[encoded data removed]",
      "text/plain": [
       "<Figure size 432x288 with 1 Axes>"
      ]
     },
     "metadata": {
      "needs_background": "light"
     },
     "output_type": "display_data"
    },
    {
     "name": "stdout",
     "output_type": "stream",
     "text": [
      "Splitting on feature:  petal_width  with MCR:  7\n",
      "\n",
      "Level  2\n",
      "Count of 1 = 1\n",
      "Reached Leaf Node \n",
      "\n",
      "Level  2\n",
      "count of 1  = 31\n",
      "count of 2  = 7\n"
     ]
    },
    {
     "data": {
      "image/png": "[encoded data removed]",
      "text/plain": [
       "<Figure size 432x288 with 1 Axes>"
      ]
     },
     "metadata": {
      "needs_background": "light"
     },
     "output_type": "display_data"
    },
    {
     "name": "stdout",
     "output_type": "stream",
     "text": [
      "Splitting on feature:  sepal_length  with MCR:  7\n",
      "\n",
      "Level  3\n",
      "Count of 1 = 13\n",
      "Reached Leaf Node \n",
      "\n",
      "Level  3\n",
      "count of 1  = 16\n",
      "count of 2  = 7\n"
     ]
    },
    {
     "data": {
      "image/png": "[encoded data removed]",
      "text/plain": [
       "<Figure size 432x288 with 1 Axes>"
      ]
     },
     "metadata": {
      "needs_background": "light"
     },
     "output_type": "display_data"
    },
    {
     "name": "stdout",
     "output_type": "stream",
     "text": [
      "Splitting on feature:  sepal_width  with MCR:  7\n",
      "\n",
      "Level  4\n",
      "Count of 1 = 3\n",
      "Reached Leaf Node \n",
      "\n",
      "Level  3\n",
      "Count of 1 = 2\n",
      "Reached Leaf Node \n",
      "\n",
      "Level  2\n",
      "Count of 2 = 8\n",
      "Reached Leaf Node \n",
      "\n",
      "Level  1\n",
      "Count of 2 = 17\n",
      "Reached Leaf Node \n",
      "\n",
      "\n",
      "---------------------------------------------------------\n",
      "Total loss:  2.3978952727983707  with dept of tree:  4\n",
      "---------------------------------------------------------\n",
      "###################--- Building tree with dept:  4  ---End -- ############\n",
      "\n",
      "\n"
     ]
    }
   ],
   "source": [
    "tree = []\n",
    "for j in range(1,5):\n",
    "    print(\"#########-- Start --- Building tree with dept: \", j , \" --- ###################\\n\")\n",
    "    tree = DT_MCR(train, train, train.columns[:-1], max_dept=j) # Build decision tree with specific dept\n",
    "    \n",
    "    \n",
    "    ###Calculating cross entropy of the decision tree with specific dept on validation set\n",
    "    uniq_vals =  validate['target'].unique()\n",
    "    total_loss = 0\n",
    "    for val in uniq_vals:\n",
    "        data_val = validate[validate['target']==val]\n",
    "        predictions = []\n",
    "        try:\n",
    "            for index, row in data_val.iterrows():\n",
    "                predictions.append(myprint(tree, row,0))\n",
    "        except:\n",
    "            predictions.append(0)\n",
    "            \n",
    "        correct_predictions_num = predictions.count(val)\n",
    "        loss = -1* (np.log(correct_predictions_num/len(data_val))) \n",
    "        total_loss  = total_loss + loss ### total loss is equal to sum of each individual unique class loss\n",
    "        \n",
    "    print(\"\\n---------------------------------------------------------\")\n",
    "    print(\"Total loss: \", total_loss, \" with dept of tree: \", j)\n",
    "    print(\"---------------------------------------------------------\")\n",
    "\n",
    "    print(\"###################--- Building tree with dept: \", j , \" ---End -- ############\\n\\n\")\n",
    "\n",
    "    "
   ]
  },
  {
   "cell_type": "markdown",
   "metadata": {},
   "source": [
    "#### Above results show that we get minimum loss on validation set if tree dept =2 ."
   ]
  },
  {
   "cell_type": "code",
   "execution_count": 34,
   "metadata": {},
   "outputs": [
    {
     "data": {
      "text/plain": [
       "{'petal_length': {'a': 0,\n",
       "  'b': 1,\n",
       "  'c': {'petal_width': {'b': 1,\n",
       "    'c': {'sepal_length': {'b': 1,\n",
       "      'c': {'sepal_width': {'a': 1, 'b': 1, 'c': 1}},\n",
       "      'd': 1}},\n",
       "    'd': 2}},\n",
       "  'd': 2}}"
      ]
     },
     "execution_count": 34,
     "metadata": {},
     "output_type": "execute_result"
    }
   ],
   "source": [
    "tree"
   ]
  },
  {
   "cell_type": "markdown",
   "metadata": {},
   "source": [
    "### Test Loss"
   ]
  },
  {
   "cell_type": "code",
   "execution_count": 35,
   "metadata": {},
   "outputs": [
    {
     "name": "stdout",
     "output_type": "stream",
     "text": [
      "\n",
      "---------------------------------------------------\n",
      "Test loss:  3.301865520284485\n",
      "---------------------------------------------------\n"
     ]
    }
   ],
   "source": [
    "###Calculating cross entropy of the decision tree with specific dept on test set\n",
    "uniq_vals =  test['target'].unique()\n",
    "total_loss = 0\n",
    "\n",
    "for val in uniq_vals:\n",
    "    data_val = test[test['target']==val]\n",
    "    predictions = []\n",
    "    try:\n",
    "        for index, row in data_val.iterrows():\n",
    "            predictions.append(myprint(tree, row,0))\n",
    "    except:\n",
    "        predictions.append(0)\n",
    "\n",
    "    correct_predictions_num = predictions.count(val)\n",
    "    loss = -1* (np.log(correct_predictions_num/len(test))) \n",
    "    total_loss  = total_loss + loss ### total loss is equal to sum of each individual unique class loss\n",
    "\n",
    "print(\"\\n---------------------------------------------------\")\n",
    "print(\"Test loss: \", total_loss)\n",
    "print(\"---------------------------------------------------\")"
   ]
  },
  {
   "cell_type": "markdown",
   "metadata": {},
   "source": [
    "<hr style=\"border:2px solid gray\"> </hr>"
   ]
  },
  {
   "cell_type": "markdown",
   "metadata": {},
   "source": [
    "# Exercise 1: Part B) Experimenting with other Quality-criterion"
   ]
  },
  {
   "cell_type": "markdown",
   "metadata": {},
   "source": [
    "### Helper Functions"
   ]
  },
  {
   "cell_type": "markdown",
   "metadata": {},
   "source": [
    "### Function to calculate entropy"
   ]
  },
  {
   "cell_type": "code",
   "execution_count": 38,
   "metadata": {},
   "outputs": [],
   "source": [
    "def Entropy(target_col):\n",
    "    elements,counts = np.unique(target_col,return_counts = True)\n",
    "    entropy=0\n",
    "    for i in range(len(elements)):\n",
    "        entropy += (-counts[i]/np.sum(counts))*np.log2(counts[i]/np.sum(counts))\n",
    "    \n",
    "    return entropy"
   ]
  },
  {
   "cell_type": "markdown",
   "metadata": {},
   "source": [
    "### Function to calculate gain"
   ]
  },
  {
   "cell_type": "code",
   "execution_count": 39,
   "metadata": {},
   "outputs": [],
   "source": [
    "def gain(data,s_feature,target_feature):       \n",
    "        n_entropy = 0\n",
    "        vals,counts= np.unique(data[s_feature],return_counts=True)\n",
    "        for i in range(len(vals)):\n",
    "            k=Entropy(data.where(data[s_feature]==vals[i]).dropna()[target_feature])\n",
    "            n_entropy += (counts[i]/np.sum(counts))*k\n",
    "        return n_entropy"
   ]
  },
  {
   "cell_type": "markdown",
   "metadata": {},
   "source": [
    "### Function to calculate Information gain "
   ]
  },
  {
   "cell_type": "code",
   "execution_count": 40,
   "metadata": {},
   "outputs": [],
   "source": [
    "def Infogain(df,s_feature,y):\n",
    "    total_entropy = Entropy(df[y])\n",
    "    Information_Gain = total_entropy - gain(df,s_feature,y)\n",
    "    return Information_Gain"
   ]
  },
  {
   "cell_type": "markdown",
   "metadata": {},
   "source": [
    "### Now we will use Information Gain as quality criteria of tree split. "
   ]
  },
  {
   "cell_type": "code",
   "execution_count": 41,
   "metadata": {},
   "outputs": [],
   "source": [
    "def DT_Gain(data, originaldata, features, max_dept, target_feature=\"target\", parent = None, level=0): \n",
    "    \n",
    " \n",
    "    if (len(np.unique(data[target_feature])) <= 1):   # checking if all the values are same if yes then we reached at a leaf\n",
    "    \n",
    "        elements,counts = np.unique(data[target_feature],return_counts = True)\n",
    "        print('Level ',level)\n",
    "        if elements ==0 :\n",
    "            print('Count of 0 =',np.sum(counts))\n",
    "        elif elements ==1 :\n",
    "            print('Count of 1 =',np.sum(counts))\n",
    "        elif elements ==2 :\n",
    "            print('Count of 2 =',np.sum(counts))\n",
    "        print('Current Entropy is =',Entropy(data[target_feature]))\n",
    "        print('Reached Leaf Node ')\n",
    "        print()\n",
    "        return np.unique(data[target_feature])[0]\n",
    "    \n",
    "    elif len(data) == 0:###checking the data is empty or not\n",
    "       \n",
    "        return np.unique(orignaldata[target_feature])[0]\n",
    "    \n",
    "    elif len(features) == 0 :\n",
    "        \n",
    "        return parent[0]\n",
    "    elif level==max_dept:\n",
    "        c = Counter(data[target_feature])\n",
    "        return c.most_common(1)[0][0]\n",
    "    \n",
    "    else :\n",
    "\n",
    "        P_node = np.unique(data[target_feature])### put all the uniqe values of target in parent node\n",
    "        \n",
    "        values = []\n",
    "        for ftr in features : ### loop over all the features\n",
    "            v = Infogain(data,ftr,target_feature) ### getting list of information gain of all features\n",
    "            values.append(v)\n",
    "        \n",
    "        best_feature_index = np.argmax(values)### taking out the index of the feture which contains max information gain\n",
    "        best_feature = features[best_feature_index]\n",
    "        \n",
    "        tree = {best_feature:{}}### Dictionaris to save my actual tree                       \n",
    "        elements,counts = np.unique(data[target_feature],return_counts = True)\n",
    "        print('Level ',level)                                      \n",
    "        for i in range(len(elements)):\n",
    "            if elements[i]==0 :\n",
    "                print('count of 0  =',counts[i])\n",
    "            elif elements[i]==1 :\n",
    "                print('count of 1  =',counts[i])\n",
    "            elif elements[i]==2 :\n",
    "                print('count of 2  =',counts[i])\n",
    "                \n",
    "        plt.bar(elements, counts/len(data))\n",
    "        plt.xticks(elements, ['setosa','versicolor','virginica'])\n",
    "        plt.xlabel('Class')\n",
    "        plt.ylabel('Probability')\n",
    "        title = 'Probability of Each class At Level: ' + str(level+1)\n",
    "        plt.title(title)\n",
    "        \n",
    "        plt.show()\n",
    "      \n",
    "        print('Splitting on feature ',best_feature,' with Gain  ',np.max(values) )\n",
    "        \n",
    "        print()\n",
    "        \n",
    "        \n",
    "        new_features = features                      \n",
    "        features=[]\n",
    "        for i in new_features : ###process to remove the feature from feature list after split                   \n",
    "                                                  \n",
    "            if i != best_feature :                  \n",
    "                features.append(i)\n",
    "        level += 1       \n",
    "        new_features=None                          \n",
    "        \n",
    "        for vals in np.unique(data[best_feature]):###recursion of all diffrent values in that splitting feature\n",
    "            \n",
    "            value = vals\n",
    "            sub_data = (data[data[best_feature] == value]).dropna()\n",
    "            \n",
    "            subtree = DT_Gain(sub_data, data, features, max_dept , target_feature, P_node, level)\n",
    "            tree[best_feature][value] = subtree\n",
    "            \n",
    "        return tree "
   ]
  },
  {
   "cell_type": "markdown",
   "metadata": {},
   "source": [
    "### Build decision trees with different depts, Infomation gain as quality criteria and test it on validation set "
   ]
  },
  {
   "cell_type": "code",
   "execution_count": 42,
   "metadata": {},
   "outputs": [],
   "source": [
    "df = load_dataset()\n",
    "train,validate,test = split(df, st=0)"
   ]
  },
  {
   "cell_type": "code",
   "execution_count": 44,
   "metadata": {},
   "outputs": [
    {
     "name": "stdout",
     "output_type": "stream",
     "text": [
      "#########-- Start --- Building tree with dept:  1  --- ###################\n",
      "\n",
      "Level  0\n",
      "count of 0  = 33\n",
      "count of 1  = 34\n",
      "count of 2  = 38\n"
     ]
    },
    {
     "data": {
      "image/png": "[encoded data removed]",
      "text/plain": [
       "<Figure size 432x288 with 1 Axes>"
      ]
     },
     "metadata": {
      "needs_background": "light"
     },
     "output_type": "display_data"
    },
    {
     "name": "stdout",
     "output_type": "stream",
     "text": [
      "Splitting on feature  petal_width  with Gain   1.2149272978329295\n",
      "\n",
      "Level  1\n",
      "Count of 0 = 33\n",
      "Current Entropy is = 0.0\n",
      "Reached Leaf Node \n",
      "\n",
      "Level  1\n",
      "Count of 1 = 6\n",
      "Current Entropy is = 0.0\n",
      "Reached Leaf Node \n",
      "\n",
      "Level  1\n",
      "Count of 2 = 24\n",
      "Current Entropy is = 0.0\n",
      "Reached Leaf Node \n",
      "\n",
      "\n",
      "---------------------------------------------------------\n",
      "Total loss:  0.15415067982725836  with dept of tree:  1\n",
      "---------------------------------------------------------\n",
      "###################--- Building tree with dept:  1  ---End -- ############\n",
      "\n",
      "\n",
      "#########-- Start --- Building tree with dept:  2  --- ###################\n",
      "\n",
      "Level  0\n",
      "count of 0  = 33\n",
      "count of 1  = 34\n",
      "count of 2  = 38\n"
     ]
    },
    {
     "data": {
      "image/png": "[encoded data removed]",
      "text/plain": [
       "<Figure size 432x288 with 1 Axes>"
      ]
     },
     "metadata": {
      "needs_background": "light"
     },
     "output_type": "display_data"
    },
    {
     "name": "stdout",
     "output_type": "stream",
     "text": [
      "Splitting on feature  petal_width  with Gain   1.2149272978329295\n",
      "\n",
      "Level  1\n",
      "Count of 0 = 33\n",
      "Current Entropy is = 0.0\n",
      "Reached Leaf Node \n",
      "\n",
      "Level  1\n",
      "Count of 1 = 6\n",
      "Current Entropy is = 0.0\n",
      "Reached Leaf Node \n",
      "\n",
      "Level  1\n",
      "count of 1  = 28\n",
      "count of 2  = 14\n"
     ]
    },
    {
     "data": {
      "image/png": "[encoded data removed]",
      "text/plain": [
       "<Figure size 432x288 with 1 Axes>"
      ]
     },
     "metadata": {
      "needs_background": "light"
     },
     "output_type": "display_data"
    },
    {
     "name": "stdout",
     "output_type": "stream",
     "text": [
      "Splitting on feature  petal_length  with Gain   0.32447941525223567\n",
      "\n",
      "Level  2\n",
      "Count of 1 = 1\n",
      "Current Entropy is = 0.0\n",
      "Reached Leaf Node \n",
      "\n",
      "Level  2\n",
      "Count of 2 = 7\n",
      "Current Entropy is = 0.0\n",
      "Reached Leaf Node \n",
      "\n",
      "Level  1\n",
      "Count of 2 = 24\n",
      "Current Entropy is = 0.0\n",
      "Reached Leaf Node \n",
      "\n",
      "\n",
      "---------------------------------------------------------\n",
      "Total loss:  0.0  with dept of tree:  2\n",
      "---------------------------------------------------------\n",
      "###################--- Building tree with dept:  2  ---End -- ############\n",
      "\n",
      "\n",
      "#########-- Start --- Building tree with dept:  3  --- ###################\n",
      "\n",
      "Level  0\n",
      "count of 0  = 33\n",
      "count of 1  = 34\n",
      "count of 2  = 38\n"
     ]
    },
    {
     "data": {
      "image/png": "[encoded data removed]",
      "text/plain": [
       "<Figure size 432x288 with 1 Axes>"
      ]
     },
     "metadata": {
      "needs_background": "light"
     },
     "output_type": "display_data"
    },
    {
     "name": "stdout",
     "output_type": "stream",
     "text": [
      "Splitting on feature  petal_width  with Gain   1.2149272978329295\n",
      "\n",
      "Level  1\n",
      "Count of 0 = 33\n",
      "Current Entropy is = 0.0\n",
      "Reached Leaf Node \n",
      "\n",
      "Level  1\n",
      "Count of 1 = 6\n",
      "Current Entropy is = 0.0\n",
      "Reached Leaf Node \n",
      "\n",
      "Level  1\n",
      "count of 1  = 28\n",
      "count of 2  = 14\n"
     ]
    },
    {
     "data": {
      "image/png": "[encoded data removed]",
      "text/plain": [
       "<Figure size 432x288 with 1 Axes>"
      ]
     },
     "metadata": {
      "needs_background": "light"
     },
     "output_type": "display_data"
    },
    {
     "name": "stdout",
     "output_type": "stream",
     "text": [
      "Splitting on feature  petal_length  with Gain   0.32447941525223567\n",
      "\n",
      "Level  2\n",
      "Count of 1 = 1\n",
      "Current Entropy is = 0.0\n",
      "Reached Leaf Node \n",
      "\n",
      "Level  2\n",
      "count of 1  = 27\n",
      "count of 2  = 7\n"
     ]
    },
    {
     "data": {
      "image/png": "[encoded data removed]",
      "text/plain": [
       "<Figure size 432x288 with 1 Axes>"
      ]
     },
     "metadata": {
      "needs_background": "light"
     },
     "output_type": "display_data"
    },
    {
     "name": "stdout",
     "output_type": "stream",
     "text": [
      "Splitting on feature  sepal_length  with Gain   0.20043404852339441\n",
      "\n",
      "Level  3\n",
      "Count of 2 = 1\n",
      "Current Entropy is = 0.0\n",
      "Reached Leaf Node \n",
      "\n",
      "Level  3\n",
      "Count of 1 = 10\n",
      "Current Entropy is = 0.0\n",
      "Reached Leaf Node \n",
      "\n",
      "Level  3\n",
      "Count of 1 = 2\n",
      "Current Entropy is = 0.0\n",
      "Reached Leaf Node \n",
      "\n",
      "Level  2\n",
      "Count of 2 = 7\n",
      "Current Entropy is = 0.0\n",
      "Reached Leaf Node \n",
      "\n",
      "Level  1\n",
      "Count of 2 = 24\n",
      "Current Entropy is = 0.0\n",
      "Reached Leaf Node \n",
      "\n",
      "\n",
      "---------------------------------------------------------\n",
      "Total loss:  0.0  with dept of tree:  3\n",
      "---------------------------------------------------------\n",
      "###################--- Building tree with dept:  3  ---End -- ############\n",
      "\n",
      "\n",
      "#########-- Start --- Building tree with dept:  4  --- ###################\n",
      "\n",
      "Level  0\n",
      "count of 0  = 33\n",
      "count of 1  = 34\n",
      "count of 2  = 38\n"
     ]
    },
    {
     "data": {
      "image/png": "[encoded data removed]",
      "text/plain": [
       "<Figure size 432x288 with 1 Axes>"
      ]
     },
     "metadata": {
      "needs_background": "light"
     },
     "output_type": "display_data"
    },
    {
     "name": "stdout",
     "output_type": "stream",
     "text": [
      "Splitting on feature  petal_width  with Gain   1.2149272978329295\n",
      "\n",
      "Level  1\n",
      "Count of 0 = 33\n",
      "Current Entropy is = 0.0\n",
      "Reached Leaf Node \n",
      "\n",
      "Level  1\n",
      "Count of 1 = 6\n",
      "Current Entropy is = 0.0\n",
      "Reached Leaf Node \n",
      "\n",
      "Level  1\n",
      "count of 1  = 28\n",
      "count of 2  = 14\n"
     ]
    },
    {
     "data": {
      "image/png": "[encoded data removed]",
      "text/plain": [
       "<Figure size 432x288 with 1 Axes>"
      ]
     },
     "metadata": {
      "needs_background": "light"
     },
     "output_type": "display_data"
    },
    {
     "name": "stdout",
     "output_type": "stream",
     "text": [
      "Splitting on feature  petal_length  with Gain   0.32447941525223567\n",
      "\n",
      "Level  2\n",
      "Count of 1 = 1\n",
      "Current Entropy is = 0.0\n",
      "Reached Leaf Node \n",
      "\n",
      "Level  2\n",
      "count of 1  = 27\n",
      "count of 2  = 7\n"
     ]
    },
    {
     "data": {
      "image/png": "[encoded data removed]",
      "text/plain": [
       "<Figure size 432x288 with 1 Axes>"
      ]
     },
     "metadata": {
      "needs_background": "light"
     },
     "output_type": "display_data"
    },
    {
     "name": "stdout",
     "output_type": "stream",
     "text": [
      "Splitting on feature  sepal_length  with Gain   0.20043404852339441\n",
      "\n",
      "Level  3\n",
      "Count of 2 = 1\n",
      "Current Entropy is = 0.0\n",
      "Reached Leaf Node \n",
      "\n",
      "Level  3\n",
      "Count of 1 = 10\n",
      "Current Entropy is = 0.0\n",
      "Reached Leaf Node \n",
      "\n",
      "Level  3\n",
      "count of 1  = 15\n",
      "count of 2  = 6\n"
     ]
    },
    {
     "data": {
      "image/png": "[encoded data removed]",
      "text/plain": [
       "<Figure size 432x288 with 1 Axes>"
      ]
     },
     "metadata": {
      "needs_background": "light"
     },
     "output_type": "display_data"
    },
    {
     "name": "stdout",
     "output_type": "stream",
     "text": [
      "Splitting on feature  sepal_width  with Gain   0.1119568775753289\n",
      "\n",
      "Level  4\n",
      "Count of 1 = 4\n",
      "Current Entropy is = 0.0\n",
      "Reached Leaf Node \n",
      "\n",
      "Level  3\n",
      "Count of 1 = 2\n",
      "Current Entropy is = 0.0\n",
      "Reached Leaf Node \n",
      "\n",
      "Level  2\n",
      "Count of 2 = 7\n",
      "Current Entropy is = 0.0\n",
      "Reached Leaf Node \n",
      "\n",
      "Level  1\n",
      "Count of 2 = 24\n",
      "Current Entropy is = 0.0\n",
      "Reached Leaf Node \n",
      "\n",
      "\n",
      "---------------------------------------------------------\n",
      "Total loss:  0.0  with dept of tree:  4\n",
      "---------------------------------------------------------\n",
      "###################--- Building tree with dept:  4  ---End -- ############\n",
      "\n",
      "\n"
     ]
    }
   ],
   "source": [
    "tree = []\n",
    "for j in range(1,5):\n",
    "    \n",
    "    print(\"#########-- Start --- Building tree with dept: \", j , \" --- ###################\\n\")\n",
    "    tree = DT_Gain(train, train, train.columns[:-1], max_dept=j) # Build decision tree with specific dept\n",
    "    \n",
    "    \n",
    "    ###Calculating cross entropy of the decision tree with specific dept on validation set\n",
    "    uniq_vals =  validate['target'].unique()\n",
    "    total_loss = 0\n",
    "    for val in uniq_vals:\n",
    "        data_val = validate[validate['target']==val]\n",
    "        predictions = []\n",
    "        try:\n",
    "            for index, row in data_val.iterrows():\n",
    "                predictions.append(myprint(tree, row,0))\n",
    "        except:\n",
    "            predictions.append(0)\n",
    "            \n",
    "        correct_predictions_num = predictions.count(val)\n",
    "        loss = -1* (np.log(correct_predictions_num/len(data_val))) \n",
    "        total_loss  = total_loss + loss ### total loss is equal to sum of each individual unique class loss\n",
    "        \n",
    "    print(\"\\n---------------------------------------------------------\")\n",
    "    print(\"Total loss: \", total_loss, \" with dept of tree: \", j)\n",
    "    print(\"---------------------------------------------------------\")\n",
    "\n",
    "    print(\"###################--- Building tree with dept: \", j , \" ---End -- ############\\n\\n\")"
   ]
  },
  {
   "cell_type": "markdown",
   "metadata": {},
   "source": [
    "#### Above results show that we get minimum loss on validation set if tree dept >=2 . So we can use that last build which is of dept 4 to predict on test set ."
   ]
  },
  {
   "cell_type": "code",
   "execution_count": 45,
   "metadata": {},
   "outputs": [
    {
     "data": {
      "text/plain": [
       "{'petal_width': {'a': 0,\n",
       "  'b': 1,\n",
       "  'c': {'petal_length': {'b': 1,\n",
       "    'c': {'sepal_length': {'a': 2,\n",
       "      'b': 1,\n",
       "      'c': {'sepal_width': {'a': 1, 'b': 1, 'c': 1}},\n",
       "      'd': 1}},\n",
       "    'd': 2}},\n",
       "  'd': 2}}"
      ]
     },
     "execution_count": 45,
     "metadata": {},
     "output_type": "execute_result"
    }
   ],
   "source": [
    "### dept 4 tree\n",
    "tree"
   ]
  },
  {
   "cell_type": "markdown",
   "metadata": {},
   "source": [
    "### Test Loss"
   ]
  },
  {
   "cell_type": "code",
   "execution_count": 46,
   "metadata": {},
   "outputs": [
    {
     "name": "stdout",
     "output_type": "stream",
     "text": [
      "\n",
      "---------------------------------------------------\n",
      "Test loss:  3.6101668799390016\n",
      "---------------------------------------------------\n"
     ]
    }
   ],
   "source": [
    "###Calculating cross entropy of the decision tree with specific dept on test set\n",
    "uniq_vals =  test['target'].unique()\n",
    "total_loss = 0\n",
    "\n",
    "for val in uniq_vals:\n",
    "    data_val = test[test['target']==val]\n",
    "    predictions = []\n",
    "    try:\n",
    "        for index, row in data_val.iterrows():\n",
    "            predictions.append(myprint(tree, row,0))\n",
    "    except:\n",
    "        predictions.append(0)\n",
    "\n",
    "    correct_predictions_num = predictions.count(val)\n",
    "    loss = -1* (np.log(correct_predictions_num/len(test))) \n",
    "    total_loss  = total_loss + loss ### total loss is equal to sum of each individual unique class loss\n",
    "\n",
    "print(\"\\n---------------------------------------------------\")\n",
    "print(\"Test loss: \", total_loss)\n",
    "print(\"---------------------------------------------------\")"
   ]
  },
  {
   "cell_type": "markdown",
   "metadata": {},
   "source": [
    "#### When we used  Misclassification Rate (MCR) as a quality-criterion, then loss on validation set is higher with each increase in tree dept as compared to information gain as a quality-criterion where loss on validation set reduces with increase in tree dept"
   ]
  }
 ],
 "metadata": {
  "kernelspec": {
   "display_name": "Python 3",
   "language": "python",
   "name": "python3"
  },
  "language_info": {
   "codemirror_mode": {
    "name": "ipython",
    "version": 3
   },
   "file_extension": ".py",
   "mimetype": "text/x-python",
   "name": "python",
   "nbconvert_exporter": "python",
   "pygments_lexer": "ipython3",
   "version": "3.7.7"
  }
 },
 "nbformat": 4,
 "nbformat_minor": 4
}

{
 "cells": [
  {
   "cell_type": "markdown",
   "metadata": {},
   "source": [
    "# Utility Functions"
   ]
  },
  {
   "cell_type": "markdown",
   "metadata": {},
   "source": [
    "## Importing libraries"
   ]
  },
  {
   "cell_type": "code",
   "execution_count": 52,
   "metadata": {},
   "outputs": [],
   "source": [
    "from collections import Counter\n",
    "import matplotlib.pyplot as plt"
   ]
  },
  {
   "cell_type": "markdown",
   "metadata": {},
   "source": [
    "## Function to count unique words in file"
   ]
  },
  {
   "cell_type": "code",
   "execution_count": 60,
   "metadata": {},
   "outputs": [],
   "source": [
    "def word_count(words):\n",
    "    \n",
    "    # This loop check if word does not exist in counter dictionary, then put word with count 1 in counter dictionary \n",
    "    # else increase the count of word by 1 in counter dictionary\n",
    "    \n",
    "    counter = {}\n",
    "    for word in words: \n",
    "        if not word in counter:\n",
    "            counter[word] = 1\n",
    "        else:\n",
    "            counter[word] += 1\n",
    "    \n",
    "    return counter"
   ]
  },
  {
   "cell_type": "markdown",
   "metadata": {},
   "source": [
    "## Function to count top 5 most frequent words "
   ]
  },
  {
   "cell_type": "code",
   "execution_count": 61,
   "metadata": {},
   "outputs": [],
   "source": [
    "def count_top_5_frequent_words(word_count_dict):\n",
    "    \n",
    "#     Dictionary subclass Counter used for counting occurence of words. \n",
    "#     Then applying most_common function which return list of the 10 most common elements and their counts\n",
    "    \n",
    "    top_5_frequent_words_dict = dict(Counter(word_count_dict).most_common(5))\n",
    "    return top_5_frequent_words_dict"
   ]
  },
  {
   "cell_type": "markdown",
   "metadata": {},
   "source": [
    "## Function to display results"
   ]
  },
  {
   "cell_type": "code",
   "execution_count": 62,
   "metadata": {},
   "outputs": [],
   "source": [
    "def show_results(title, x_label, y_label, x_axis_val, y_axis_val, style = \"fivethirtyeight\"):\n",
    "    \n",
    "    plt.style.use(style)  # using pre-defined style provided by Matplotlib.\n",
    "    plt.title(title)  # Set title for the axes.\n",
    "    plt.xlabel(x_label)  # Set the label for the x-axis.\n",
    "    plt.ylabel(y_label)  # Set the label for the y-axis.\n",
    "    plt.tight_layout(0)  # used to give padding\n",
    "    plt.bar(x_axis_val, y_axis_val, color='#30475e', edgecolor=\"black\")  # bar graph to plot chart\n",
    "    plt.show()  # show chart"
   ]
  },
  {
   "cell_type": "markdown",
   "metadata": {},
   "source": [
    "## Reading given text file and splitting lines to list of words"
   ]
  },
  {
   "cell_type": "code",
   "execution_count": 63,
   "metadata": {},
   "outputs": [],
   "source": [
    "# Open file in read mode\n",
    "\n",
    "file = open(\"random_text.txt\", \"r\") \n",
    "\n",
    "# Read data from file and split it into words. Here we have not passed any argument to split function. \n",
    "# In this case split function will consider consecutive whitespace as a single separator, and the result will \n",
    "# contain no empty strings at the start or end if the string has leading or trailing whitespace. Consequently, \n",
    "# splitting an empty string or a string consisting of just whitespace with a None separator returns [].\n",
    "\n",
    "total_words = file.read().split()\n"
   ]
  },
  {
   "cell_type": "markdown",
   "metadata": {},
   "source": [
    "<hr style=\"border:2px solid gray\"> </hr>"
   ]
  },
  {
   "cell_type": "markdown",
   "metadata": {},
   "source": [
    "# Part A) The number of unique words"
   ]
  },
  {
   "cell_type": "code",
   "execution_count": 65,
   "metadata": {},
   "outputs": [
    {
     "name": "stdout",
     "output_type": "stream",
     "text": [
      "Unique words list:\n",
      "\n",
      " {'Lorem': 1, 'amet,': 1, 'adipiscing': 1, 'erat': 1, 'maximus,': 1, 'eleifend': 1, 'orci.': 1, 'Morbi': 1, 'augue.': 1, 'efficitur.': 1, 'imperdiet.': 1, 'nunc.': 1, 'nunc': 1, 'tellus.': 1, 'purus': 1, 'consectetur,': 1, 'leo': 1, 'iaculis,': 1, 'gravida': 1, 'dolor,': 1, 'laoreet': 1, 'sollicitudin': 1, 'sed.': 1, 'Curabitur': 1, 'fermentum': 1, 'lectus,': 1, 'vel.': 1, 'massa,': 1, 'nec.': 1, 'nunc,': 1, 'pellentesque': 1, 'lacinia,': 1, 'malesuada': 1, 'eleifend,': 1, 'magna': 1, 'enim,': 1, 'fringilla': 1, 'magna.': 1, 'Suspendisse': 1, 'nisl,': 1, 'congue': 1, 'odio.': 1, 'orci': 1, 'facilisis.': 1, 'pretium': 1, 'arcu,': 1, 'massa': 1, 'at.': 1, 'Praesent': 1, 'viverra': 1, 'cursus.': 1, 'tristique.': 1, 'mollis': 1, 'commodo.': 1, 'ornare.': 1, 'imperdiet': 1, 'neque': 1, 'lobortis.': 1, 'finibus.': 1, 'lobortis': 1, 'pellentesque.': 1, 'Vivamus': 1, 'tortor,': 1, 'libero': 1, 'elementum': 1, 'varius.': 1, 'Ut': 1, 'tincidunt': 1, 'metus.': 1, 'posuere': 1, 'leo.': 1, 'Integer': 1, 'consequat': 1, 'lobortis,': 1, 'eros': 1, 'sagittis.': 1, 'ultricies,': 1, 'ligula': 1, 'risus,': 1, 'odio': 1, 'ex.': 1, 'Etiam': 1, 'nulla': 1, 'pretium.': 1, 'porta': 1, 'dui.': 1, 'facilisi.': 1, 'accumsan.': 1, 'quam': 1, 'aliquam': 1, 'rhoncus': 1, 'est,': 1, 'ullamcorper': 1, 'amet.': 1, 'blandit.': 1, 'porttitor': 1, 'orci,': 1, 'blandit': 1, 'euismod,': 1, 'tempus': 1, 'lorem.': 1, 'lorem': 1, 'pulvinar.': 1, 'mattis': 1, 'est': 1, 'mollis.': 1, 'Phasellus': 1, 'vehicula': 1, 'condimentum.': 1, 'egestas': 1, 'turpis': 1, 'nisl': 1, 'luctus.': 1, 'tempus,': 1, 'ante,': 1, 'Pellentesque': 1, 'hac': 1, 'habitasse': 1, 'platea': 1, 'dictumst.': 1, 'Proin': 1, 'ligula,': 1, 'risus': 1, 'eu,': 1, 'nibh': 1, 'vulputate': 1, 'euismod.': 1, 'felis,': 1, 'accumsan': 1, 'vitae,': 1, 'dictum': 1, 'ligula.': 1, 'ipsum': 2, 'elit.': 2, 'eget,': 2, 'libero.': 2, 'pharetra': 2, 'ac': 2, 'Cras': 2, 'luctus': 2, 'ultricies': 2, 'tortor': 2, 'risus.': 2, 'maximus': 2, 'mauris': 2, 'auctor': 2, 'varius': 2, 'mi': 2, 'eu.': 2, 'hendrerit': 2, 'rutrum': 2, 'Vestibulum': 2, 'vestibulum': 2, 'Quisque': 2, 'mauris.': 2, 'velit': 2, 'facilisis': 2, 'semper': 2, 'tempor': 2, 'tempor.': 2, 'felis': 2, 'nisl.': 2, 'sem': 2, 'Aenean': 2, 'venenatis': 2, 'nisi': 2, 'Nam': 2, 'dapibus': 2, 'convallis,': 2, 'dui': 2, 'Nulla': 2, 'Aliquam': 2, 'faucibus': 2, 'sodales': 2, 'rutrum.': 2, 'Mauris': 2, 'efficitur': 2, 'tristique': 2, 'ante.': 2, 'dolor': 3, 'consectetur': 3, 'Maecenas': 3, 'Nunc': 3, 'lacus': 3, 'ex': 3, 'volutpat': 3, 'et': 3, 'tincidunt.': 3, 'metus': 3, 'placerat': 3, 'commodo': 3, 'justo': 3, 'condimentum': 3, 'convallis': 3, 'In': 3, 'suscipit': 3, 'ornare': 3, 'tellus': 3, 'iaculis': 3, 'euismod': 3, 'a': 3, 'sagittis': 3, 'dignissim': 3, 'augue': 3, 'feugiat': 4, 'vitae': 4, 'finibus': 4, 'urna': 4, 'Sed': 4, 'eget': 4, 'molestie': 4, 'Duis': 4, 'diam': 4, 'Fusce': 4, 'enim': 4, 'interdum': 4, 'Nullam': 4, 'vel': 5, 'nec': 5, 'lectus': 5, 'ut': 5, 'id': 5, 'ante': 6, 'eu': 6, 'amet': 6, 'elit': 6, 'Donec': 7, 'sed': 7, 'sit': 8, 'non': 8, 'at': 8, 'in': 9}\n"
     ]
    }
   ],
   "source": [
    "# I assume here that we have to find count of words in case sensitive manner. However if that is not the case,\n",
    "# we can simply use words.lower() buildin function in word_count() function to count frequency of words in case insenstive manner.\n",
    "\n",
    "count_of_words = word_count (total_words)\n",
    "\n",
    "#sorting frequency of words in ascending order based on count of words. \n",
    "sorted_count_of_words = {w:count_of_words[w] for w in sorted(count_of_words, key=count_of_words.get)}\n",
    "\n",
    "print(\"Unique words list:\\n\\n\", sorted_count_of_words)"
   ]
  },
  {
   "cell_type": "markdown",
   "metadata": {},
   "source": [
    "<hr style=\"border:2px solid gray\"> </hr>"
   ]
  },
  {
   "cell_type": "markdown",
   "metadata": {},
   "source": [
    "# Part B) The top 5 most frequent words"
   ]
  },
  {
   "cell_type": "code",
   "execution_count": 59,
   "metadata": {},
   "outputs": [
    {
     "name": "stdout",
     "output_type": "stream",
     "text": [
      "The top 5 most frequent words:  {'in': 9, 'sit': 8, 'non': 8, 'at': 8, 'Donec': 7}\n"
     ]
    },
    {
     "data": {
      "image/png": "[encoded data removed]",
      "text/plain": [
       "<Figure size 432x288 with 1 Axes>"
      ]
     },
     "metadata": {},
     "output_type": "display_data"
    }
   ],
   "source": [
    "top_5_frequent_words = count_top_5_frequent_words (count_of_words) #get dictionary of top 5 most frequent words\n",
    "\n",
    "#sorting top 5 frequent words in ascending order based on count of words. \n",
    "sorted_top_5_frequent_words = {w:top_5_frequent_words[w] for w in sorted(top_5_frequent_words, key=top_5_frequent_words.get)}\n",
    "\n",
    "print(\"The top 5 most frequent words: \", top_5_frequent_words)\n",
    "\n",
    "show_results(\"The top 5 most frequent words\", \"Words\", \"Count\", top_5_frequent_words.keys(), top_5_frequent_words.values())"
   ]
  },
  {
   "cell_type": "markdown",
   "metadata": {},
   "source": [
    "<hr style=\"border:2px solid gray\"> </hr>"
   ]
  }
 ],
 "metadata": {
  "kernelspec": {
   "display_name": "Python 3",
   "language": "python",
   "name": "python3"
  },
  "language_info": {
   "codemirror_mode": {
    "name": "ipython",
    "version": 3
   },
   "file_extension": ".py",
   "mimetype": "text/x-python",
   "name": "python",
   "nbconvert_exporter": "python",
   "pygments_lexer": "ipython3",
   "version": "3.7.7"
  }
 },
 "nbformat": 4,
 "nbformat_minor": 4
}

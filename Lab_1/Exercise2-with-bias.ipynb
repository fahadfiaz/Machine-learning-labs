{
 "cells": [
  {
   "cell_type": "markdown",
   "metadata": {},
   "source": [
    "# Utility Functions"
   ]
  },
  {
   "cell_type": "markdown",
   "metadata": {},
   "source": [
    "## Importing libraries"
   ]
  },
  {
   "cell_type": "code",
   "execution_count": 1,
   "metadata": {},
   "outputs": [],
   "source": [
    "import numpy as np\n",
    "import matplotlib.pyplot as plt\n",
    "from mpl_toolkits.mplot3d import Axes3D\n",
    "from matplotlib import cm\n",
    "from matplotlib.ticker import LinearLocator, FormatStrFormatter\n"
   ]
  },
  {
   "cell_type": "markdown",
   "metadata": {},
   "source": [
    "## Function to generate dataset with bias"
   ]
  },
  {
   "cell_type": "code",
   "execution_count": 2,
   "metadata": {},
   "outputs": [],
   "source": [
    "def generate_dataset(mu,sigma, shape):\n",
    "    \n",
    "    X_without_bias = np.random.normal(mu, sigma, shape)\n",
    "    bias_column = np.ones((100,1))\n",
    "    X = np.append(bias_column, X_without_bias, axis=1)\n",
    "    Y = np.random.uniform(1,2,100)\n",
    "    return X,Y"
   ]
  },
  {
   "cell_type": "markdown",
   "metadata": {},
   "source": [
    "## Function to get matrix transpose"
   ]
  },
  {
   "cell_type": "code",
   "execution_count": 3,
   "metadata": {},
   "outputs": [],
   "source": [
    "def get_matrix_transpose(matrix):\n",
    "    \n",
    "    rows = len(matrix)\n",
    "    columns = len(matrix[0])\n",
    "    return np.array([[matrix[row][col] for row in range(rows)] for col in range(columns)])"
   ]
  },
  {
   "cell_type": "markdown",
   "metadata": {},
   "source": [
    "## Function that will help in calculating determinant of matrix"
   ]
  },
  {
   "cell_type": "code",
   "execution_count": 4,
   "metadata": {},
   "outputs": [],
   "source": [
    "def reduce_row_column(matrix, i, j):\n",
    "    \n",
    "    rows = len(matrix)\n",
    "    columns = len(matrix[0])\n",
    "    return [[matrix[row][col] for col in range(columns) if col != j] for row in range(rows) if row != i]"
   ]
  },
  {
   "cell_type": "markdown",
   "metadata": {},
   "source": [
    "## Function to get matrix minor"
   ]
  },
  {
   "cell_type": "code",
   "execution_count": 5,
   "metadata": {},
   "outputs": [],
   "source": [
    "def getMatrixMinor(matrix, i, j):\n",
    "    \n",
    "    matrix = reduce_row_column(matrix, i, j)\n",
    "    return get_matrix_determinant(matrix)"
   ]
  },
  {
   "cell_type": "markdown",
   "metadata": {},
   "source": [
    "## Function to get matrix determinant"
   ]
  },
  {
   "cell_type": "code",
   "execution_count": 6,
   "metadata": {},
   "outputs": [],
   "source": [
    "def get_matrix_determinant(matrix):\n",
    "    \n",
    "    if len(matrix) == 2:\n",
    "        return matrix[0][0]*matrix[1][1]-matrix[0][1]*matrix[1][0]\n",
    "    \n",
    "    determinant = 0\n",
    "    for c in range(len(matrix)):\n",
    "        determinant += ((-1)**c)*matrix[0][c]*getMatrixMinor(matrix,0,c)\n",
    "    return determinant"
   ]
  },
  {
   "cell_type": "markdown",
   "metadata": {},
   "source": [
    "## Function to get matrix inverse of 3x3 matrix using co-factor method"
   ]
  },
  {
   "cell_type": "code",
   "execution_count": 7,
   "metadata": {},
   "outputs": [],
   "source": [
    "## According to co-factor method, inverse of matrix = (cofactor matrix / matrix determinant) ##\n",
    "\n",
    "## To get co-factor matrix, wo do following steps:\n",
    "#    1)The Minor(i j) of entry a(i,j) is the determinant of the matrix that remains after we eliminate the ith row and \n",
    "#       jth column of matrix A.\n",
    "#    2) cofactor C(i,j) of entry A(i,j) is (-1)i+ j(Minor(i j)). ##\n",
    "\n",
    "# To get detail understanding of how this method works please using following link:\n",
    "# http://www.the-mathroom.ca/lnalg/lnalg1.5/lnalg1.5.htm\n",
    "\n",
    "\n",
    "def get_matrix_inverse(matrix):\n",
    "    \n",
    "    determinant = get_matrix_determinant(matrix)\n",
    "    \n",
    "    #find matrix of cofactors\n",
    "    cofactors = []\n",
    "    for r in range(len(matrix)):\n",
    "        cofactorRow = []\n",
    "        for c in range(len(matrix)):\n",
    "            minor = getMatrixMinor(matrix,r,c) ##get matrix minor of specific position\n",
    "            coefficient = (-1)**(r+c) ## find that position co-efficient\n",
    "            cofactorRow.append(coefficient * minor) ## multiply coefficient with minor to get cofactor C(i,j) value\n",
    "        cofactors.append(cofactorRow)\n",
    "    cofactors = get_matrix_transpose(cofactors)\n",
    "    \n",
    "    inverse = [[element / determinant for element in row] for row in cofactors]  # Divide by determinant\n",
    "    return inverse"
   ]
  },
  {
   "cell_type": "markdown",
   "metadata": {},
   "source": [
    "## Function to get beta_hat by solving system of normal equations\n"
   ]
  },
  {
   "cell_type": "code",
   "execution_count": 8,
   "metadata": {},
   "outputs": [],
   "source": [
    "def learn_linreg_NormEqu(X,Y):\n",
    "    \n",
    "    X_transpose = get_matrix_transpose(X)\n",
    "    A = np.dot(X_transpose , X)\n",
    "    b = np.dot(X_transpose , Y)\n",
    "    inverse_A = get_matrix_inverse(A)\n",
    "    beta_hat = np.dot(inverse_A,b)\n",
    "    return beta_hat"
   ]
  },
  {
   "cell_type": "markdown",
   "metadata": {},
   "source": [
    "## Function to do prediction (y_hat) on feature matrix X"
   ]
  },
  {
   "cell_type": "code",
   "execution_count": 9,
   "metadata": {},
   "outputs": [],
   "source": [
    "def predict_simple_line_regression(matrix, beta_hat):\n",
    "    \n",
    "    y_hat = beta_hat[0] + np.multiply(beta_hat[1], matrix[:, 1]) + np.multiply(beta_hat[2], matrix[:, 2])\n",
    "    return y_hat"
   ]
  },
  {
   "cell_type": "markdown",
   "metadata": {},
   "source": [
    "## Function to draw simple 3-D scatter plot"
   ]
  },
  {
   "cell_type": "code",
   "execution_count": 10,
   "metadata": {},
   "outputs": [],
   "source": [
    "def draw_3d_graph(X, Y, prediction, beta_hat):\n",
    "    \n",
    "    #plane calculation\n",
    "    k = 10 #size of the plane\n",
    "    p1, p2 = np.mgrid[:k, :k]\n",
    "    P = np.hstack((np.reshape(p1, (k*k, 1)), np.reshape(p2, (k*k, 1))))\n",
    "    plane = np.reshape(prediction, (k, k));\n",
    "\n",
    "    #plotting\n",
    "    fig = plt.figure()\n",
    "    ax = fig.gca(projection='3d')\n",
    "    ax.plot(X[:,0], X[:,0],Y ,'ro') #scatter plot\n",
    "    ax.plot_surface(p1,p2,plane) #plane plot\n",
    "    ax.set_xlabel('x1')\n",
    "    ax.set_ylabel('x2')\n",
    "    ax.set_zlabel('Y')\n",
    "\n",
    "    plt.show()"
   ]
  },
  {
   "cell_type": "markdown",
   "metadata": {},
   "source": [
    "## Function to learn beta_hat and predict y_hat using lstsq buildin function"
   ]
  },
  {
   "cell_type": "code",
   "execution_count": 13,
   "metadata": {},
   "outputs": [],
   "source": [
    "def learn_predict_linear_regression_using_lstsq(X, Y):\n",
    "    \n",
    "    beta_hat = np.linalg.lstsq(X, Y, rcond=None)[0]\n",
    "    print(f\"Using lstsq method = > B0 is {beta_hat[0]}, B1 is { beta_hat[1]}, B2 is { beta_hat[2]}\")\n",
    "    "
   ]
  },
  {
   "cell_type": "markdown",
   "metadata": {},
   "source": [
    "## Main function \n",
    "## Main Function\n",
    "\n",
    "<ol>\n",
    "  <p>Steps followed in main function to solve the problem:</p>\n",
    "    <br>\n",
    "  <li>First set the variable values for generating dataset as specified in the question.</li>\n",
    "  <li>Then use generate dataset function to generate feature matrix X and actual prediction vector Y. Here I did add the bias column in the Feature matrix X</li>\n",
    "  <li>Use learn_linreg_NormEqu function to get values of beta_hat (B0,B1,B2). Here we also make use of inverse function as required in exercise.</li> \n",
    "  <li>Get Prediction vector using predict_simple_line_regression function.</li> \n",
    "   <li>Plotted 3D plot with Feature matrix X first column on x-axis, Feature matrix X second column on y-axis, Actual prediction vector Y on z-axis. The red dots are training points and 2-d plane is predictioned values.</li>\n",
    "   <li>Finally used the learn_predict_linear_regression_using_lstsq function to get B_0, B_1, B_2 values. By using learn_predict_linear_regression_using_lstsq function we get same B_0, B_1, B_2 values as we get by using learn_linreg_NormEqu function.</li>\n",
    "</ol>"
   ]
  },
  {
   "cell_type": "code",
   "execution_count": 15,
   "metadata": {},
   "outputs": [],
   "source": [
    "def main():\n",
    "    \n",
    "    mu = 2  # mean\n",
    "    sigma = 0.01  # standard deviation\n",
    "    shape = (100, 2)  # dimensions of matrix\n",
    "    \n",
    "    X,Y = generate_dataset(mu, sigma, shape)\n",
    "    beta_hat = learn_linreg_NormEqu(X,Y)\n",
    "    \n",
    "    print(f\"By solving normal equation: B0 is {beta_hat[0]}, B1 is {beta_hat[1]}, B3 is {beta_hat[2]}\")\n",
    "        \n",
    "    prediction = predict_simple_line_regression(X, beta_hat)\n",
    "    draw_3d_graph (X,Y,prediction,prediction)\n",
    "\n",
    "    lstsq_predictions = learn_predict_linear_regression_using_lstsq(X,Y)\n",
    "    "
   ]
  },
  {
   "cell_type": "markdown",
   "metadata": {},
   "source": [
    "<hr style=\"border:2px solid gray\"> </hr>"
   ]
  },
  {
   "cell_type": "markdown",
   "metadata": {},
   "source": [
    "## Running main function"
   ]
  },
  {
   "cell_type": "code",
   "execution_count": 16,
   "metadata": {},
   "outputs": [
    {
     "name": "stdout",
     "output_type": "stream",
     "text": [
      "By solving normal equation: B0 is -2.0316044739447534, B1 is -0.6479010964185363, B3 is 2.423705705044995\n"
     ]
    },
    {
     "data": {
      "image/png": "[encoded data removed]",
      "text/plain": [
       "<Figure size 432x288 with 1 Axes>"
      ]
     },
     "metadata": {
      "needs_background": "light"
     },
     "output_type": "display_data"
    },
    {
     "name": "stdout",
     "output_type": "stream",
     "text": [
      "Using lstsq method = > B0 is -2.0316043841796554, B1 is -0.6479006949136988, B2 is 2.423705794822203\n"
     ]
    }
   ],
   "source": [
    "if __name__ == \"__main__\":\n",
    "    main()"
   ]
  }
 ],
 "metadata": {
  "kernelspec": {
   "display_name": "Python 3",
   "language": "python",
   "name": "python3"
  },
  "language_info": {
   "codemirror_mode": {
    "name": "ipython",
    "version": 3
   },
   "file_extension": ".py",
   "mimetype": "text/x-python",
   "name": "python",
   "nbconvert_exporter": "python",
   "pygments_lexer": "ipython3",
   "version": "3.7.7"
  }
 },
 "nbformat": 4,
 "nbformat_minor": 4
}

{
 "cells": [
  {
   "cell_type": "markdown",
   "metadata": {},
   "source": [
    "## Importing Libraries"
   ]
  },
  {
   "cell_type": "code",
   "execution_count": 101,
   "metadata": {},
   "outputs": [],
   "source": [
    "import pandas as pd\n",
    "import numpy as np\n",
    "from matplotlib import pyplot as plt\n",
    "import math\n",
    "from mpl_toolkits.mplot3d import Axes3D\n",
    "import random"
   ]
  },
  {
   "cell_type": "markdown",
   "metadata": {},
   "source": [
    "### Setting up seed"
   ]
  },
  {
   "cell_type": "code",
   "execution_count": 102,
   "metadata": {},
   "outputs": [],
   "source": [
    "random.seed(3116)"
   ]
  },
  {
   "cell_type": "markdown",
   "metadata": {},
   "source": [
    "### Utilities functions for logistic regression"
   ]
  },
  {
   "cell_type": "code",
   "execution_count": 103,
   "metadata": {},
   "outputs": [],
   "source": [
    "def _sigmoid(z):\n",
    "    return 1 / (1 + np.exp(-z))"
   ]
  },
  {
   "cell_type": "code",
   "execution_count": 104,
   "metadata": {},
   "outputs": [],
   "source": [
    "def y_prediction(X_data, beta):\n",
    "    beta = np.dot(X_data, beta)\n",
    "    y_predict = _sigmoid(beta)\n",
    "    return y_predict"
   ]
  },
  {
   "cell_type": "code",
   "execution_count": 105,
   "metadata": {},
   "outputs": [],
   "source": [
    "def loss(X_data, Y_data, beta):\n",
    "    y_predict = y_prediction(X_data, beta)    \n",
    "    loss = (Y_data * np.log(y_predict)) + ((1 - Y_data)*np.log(1 - y_predict))\n",
    "    loss = sum(loss)\n",
    "    return loss[0]"
   ]
  },
  {
   "cell_type": "code",
   "execution_count": 106,
   "metadata": {},
   "outputs": [],
   "source": [
    "def loss_full(X_data, Y_data, beta):\n",
    "    y_predict = y_prediction(X_data, beta)    \n",
    "    loss = (Y_data * np.log(y_predict)) + ((1 - Y_data)*np.log(1 - y_predict))\n",
    "    loss = sum(loss)\n",
    "    return loss[0]"
   ]
  },
  {
   "cell_type": "code",
   "execution_count": 107,
   "metadata": {},
   "outputs": [],
   "source": [
    "def calculate_aic(X,y,betas,num_params):\n",
    "    L = loss(X,y,betas)\n",
    "    return -2.0 * L + 2.0 * num_params\n"
   ]
  },
  {
   "cell_type": "code",
   "execution_count": 108,
   "metadata": {},
   "outputs": [],
   "source": [
    "def derivativeEq(X_data, Y_data,beta):\n",
    "    y_predict = y_prediction(X_data , beta)\n",
    "    y_calculated = Y_data - y_predict\n",
    "    derivative0 = np.dot(X_data.T, y_calculated)\n",
    "    \n",
    "    derivative = np.multiply(-2, derivative0)\n",
    "    return derivative"
   ]
  },
  {
   "cell_type": "code",
   "execution_count": 109,
   "metadata": {},
   "outputs": [],
   "source": [
    "#function is adding bias of 1's and extracting the labels\n",
    "def biasandlabels(train_data, test_data): \n",
    "    \n",
    "    test_data.insert(loc=0,column='bias',value=np.ones(len(test_data)))\n",
    "    train_data.insert(loc=0,column='bias',value=np.ones(len(train_data)))\n",
    "        \n",
    "    return train_data,test_data"
   ]
  },
  {
   "cell_type": "markdown",
   "metadata": {},
   "source": [
    "### Function to convert dataset to mini Batches"
   ]
  },
  {
   "cell_type": "code",
   "execution_count": 110,
   "metadata": {},
   "outputs": [],
   "source": [
    "# function to create a list containing mini-batches \n",
    "def create_mini_batches(X, y, batch_size): \n",
    "    mini_batches = [] \n",
    "    y = y.reshape(-1,1)\n",
    "    data = np.hstack((X, y))\n",
    "    np.random.shuffle(data) \n",
    "    n_minibatches = data.shape[0] // batch_size \n",
    "    i = 0\n",
    "  \n",
    "    for i in range(n_minibatches + 1): \n",
    "        mini_batch = data[i * batch_size:(i + 1)*batch_size, :] \n",
    "        X_mini = mini_batch[:, :-1] \n",
    "        Y_mini = mini_batch[:, -1].reshape((-1, 1)) \n",
    "        mini_batches.append((X_mini, Y_mini)) \n",
    "    if data.shape[0] % batch_size != 0: \n",
    "        mini_batch = data[i * batch_size:data.shape[0]] \n",
    "        X_mini = mini_batch[:, :-1] \n",
    "        Y_mini = mini_batch[:, -1].reshape((-1, 1)) \n",
    "        mini_batches.append((X_mini, Y_mini)) \n",
    "    return mini_batches "
   ]
  },
  {
   "cell_type": "markdown",
   "metadata": {},
   "source": [
    "### Logistic Regression Function with mini batch gradient ascent"
   ]
  },
  {
   "cell_type": "code",
   "execution_count": 111,
   "metadata": {},
   "outputs": [],
   "source": [
    "def logistic_regression_mini(X_data, Y_data, X_test, Y_test):\n",
    "    log_loss =[]\n",
    "    mse = []\n",
    "    beta = np.zeros((X_data.shape[1], 1)) \n",
    "    updated_loss = loss(X_data, Y_data, beta)\n",
    "    lr = 0.001\n",
    "    batch_size = 256\n",
    "    \n",
    "    for i in range(100):\n",
    "        \n",
    "        mini_batches = create_mini_batches(X_data, Y_data, batch_size)\n",
    "        \n",
    "        for mini_batch in mini_batches: \n",
    "            X_mini, y_mini = mini_batch\n",
    "            \n",
    "            y_predict = y_prediction(X_mini, beta)\n",
    "            beta = beta + (lr*np.dot(X_mini.T,  y_mini - y_predict))\n",
    "            previous_loss = updated_loss\n",
    "            updated_loss = loss_full(X_mini,y_mini,beta)\n",
    "        \n",
    "        y_hat = y_prediction(X_test, beta)\n",
    "        mse.append(np.square(np.subtract(Y_test,y_hat)).mean())\n",
    "        log_loss.append(np.absolute(loss(X_test,Y_test,beta)))\n",
    "\n",
    "        if((updated_loss - previous_loss) <= 0.00001):\n",
    "            break\n",
    "    \n",
    "    return log_loss"
   ]
  },
  {
   "cell_type": "markdown",
   "metadata": {},
   "source": [
    "### Function to split dataset into train,test set as mentioned in exercise along with normalization"
   ]
  },
  {
   "cell_type": "code",
   "execution_count": 112,
   "metadata": {},
   "outputs": [],
   "source": [
    "def split(df):\n",
    "    df = pd.get_dummies(df)\n",
    "    df = df.drop(['y_no'],axis=1)\n",
    "    df_label = df['y_yes'] \n",
    "    df =(df-df.mean())/df.std() \n",
    "    df['y_yes'] = df_label\n",
    "    \n",
    "    shuffle = df.sample(frac=1)\n",
    "    train_size = int(0.8*len(df))\n",
    "    df_train = shuffle[:train_size]\n",
    "    df_test = shuffle[train_size:]\n",
    "    \n",
    "    Xtrain = df_train.drop(['y_yes'], axis = 1)\n",
    "    Ytrain = df_train['y_yes'].to_numpy()\n",
    "    \n",
    "    Xtest = df_test.drop(['y_yes'], axis = 1)\n",
    "    Ytest = df_test['y_yes'].to_numpy()\n",
    "    \n",
    "    #adding bias to data\n",
    "    Xtrain, Xtest = biasandlabels(Xtrain, Xtest)\n",
    "\n",
    "    return Xtrain, Ytrain, Xtest, Ytest"
   ]
  },
  {
   "cell_type": "markdown",
   "metadata": {},
   "source": [
    "### Loading dataset"
   ]
  },
  {
   "cell_type": "code",
   "execution_count": 113,
   "metadata": {},
   "outputs": [],
   "source": [
    "data1 = pd.read_csv('bank.csv', delimiter= ';', header=0)"
   ]
  },
  {
   "cell_type": "markdown",
   "metadata": {},
   "source": [
    "### Checking missing or Null values"
   ]
  },
  {
   "cell_type": "code",
   "execution_count": 114,
   "metadata": {},
   "outputs": [
    {
     "name": "stdout",
     "output_type": "stream",
     "text": [
      "Null Data:  0\n",
      "Missing Data:  0\n"
     ]
    }
   ],
   "source": [
    "null_data = data1.isnull().any().sum()\n",
    "na_data = data1.isna().any().sum()\n",
    "\n",
    "print(\"Null Data: \",null_data )\n",
    "print(\"Missing Data: \",na_data )"
   ]
  },
  {
   "cell_type": "code",
   "execution_count": 115,
   "metadata": {},
   "outputs": [],
   "source": [
    "Xtrain, Ytrain, Xtest, Ytest = split(data1)"
   ]
  },
  {
   "cell_type": "code",
   "execution_count": 116,
   "metadata": {},
   "outputs": [
    {
     "name": "stdout",
     "output_type": "stream",
     "text": [
      "(3616, 52)\n",
      "(905, 52)\n",
      "(3616,)\n",
      "(905,)\n"
     ]
    }
   ],
   "source": [
    "print (Xtrain.shape)\n",
    "print (Xtest.shape)\n",
    "print (Ytrain.shape)\n",
    "print (Ytest.shape)"
   ]
  },
  {
   "cell_type": "markdown",
   "metadata": {},
   "source": [
    "### Running simple logistic regression with mini batch gradient ascent without backward search"
   ]
  },
  {
   "cell_type": "code",
   "execution_count": 117,
   "metadata": {},
   "outputs": [],
   "source": [
    "log_loss  = logistic_regression_mini(Xtrain, Ytrain, Xtest, Ytest)"
   ]
  },
  {
   "cell_type": "markdown",
   "metadata": {},
   "source": [
    "### Loglikelihood Loss on Test Set"
   ]
  },
  {
   "cell_type": "code",
   "execution_count": 118,
   "metadata": {},
   "outputs": [
    {
     "data": {
      "text/plain": [
       "[156.23738915731911]"
      ]
     },
     "execution_count": 118,
     "metadata": {},
     "output_type": "execute_result"
    }
   ],
   "source": [
    "log_loss[-1:]"
   ]
  },
  {
   "cell_type": "markdown",
   "metadata": {},
   "source": [
    "### Plotting Loglikelihood loss "
   ]
  },
  {
   "cell_type": "code",
   "execution_count": 119,
   "metadata": {},
   "outputs": [
    {
     "data": {
      "image/png": "[encoded data removed]",
      "text/plain": [
       "<Figure size 432x288 with 1 Axes>"
      ]
     },
     "metadata": {
      "needs_background": "light"
     },
     "output_type": "display_data"
    }
   ],
   "source": [
    "# visualising gradient descent \n",
    "plt.plot(log_loss) \n",
    "plt.xlabel(\"Number of iterations\") \n",
    "plt.ylabel(\"Loss\") \n",
    "plt.show() "
   ]
  },
  {
   "cell_type": "code",
   "execution_count": null,
   "metadata": {},
   "outputs": [],
   "source": []
  },
  {
   "cell_type": "markdown",
   "metadata": {},
   "source": [
    "## Now we will run backward selection search to find model features that will give us minimum Aic."
   ]
  },
  {
   "cell_type": "markdown",
   "metadata": {},
   "source": [
    "### Logistic regression for backward search"
   ]
  },
  {
   "cell_type": "code",
   "execution_count": 120,
   "metadata": {},
   "outputs": [],
   "source": [
    "def logistic_regression_backward(X_data, Y_data):\n",
    "   \n",
    "    beta = np.zeros((X_data.shape[1], 1)) \n",
    "    lr = 0.001\n",
    "    batch_size = 256\n",
    "\n",
    "    for i in range(100):\n",
    "        mini_batches = create_mini_batches(X_data, Y_data, batch_size)\n",
    "        for mini_batch in mini_batches: \n",
    "            X_mini, y_mini = mini_batch\n",
    "            y_predict = y_prediction(X_mini, beta)\n",
    "            beta = beta + (lr*np.dot(X_mini.T,  y_mini - y_predict))\n",
    "    \n",
    "    return beta"
   ]
  },
  {
   "cell_type": "markdown",
   "metadata": {},
   "source": [
    "### Backward Search "
   ]
  },
  {
   "cell_type": "code",
   "execution_count": 121,
   "metadata": {},
   "outputs": [],
   "source": [
    "def backward_search(Xtrain, Ytrain, Xvalid, Yvalid):\n",
    "    N, M = Xtrain.shape\n",
    "    print(f\"--- Backward Search Running ---\")\n",
    "    print(f\"Total {M} features in dataset!!!\\n\")\n",
    "    \n",
    "    V = set(range(M))    \n",
    "    betas = logistic_regression_backward(Xtrain[:, list(V)], Ytrain)\n",
    "    \n",
    "    e_train = calculate_aic(Xtrain[:,list(V)], Ytrain, betas, len(V))\n",
    "    e_valid = calculate_aic(Xvalid[:, list(V)], Yvalid, betas, len(V))\n",
    "#     print(e_train,e_valid)\n",
    "    \n",
    "    while True:\n",
    "        print(f\"Aic(train):{e_train:.2f} Aic(valid):{e_valid:.2f} vars:{V}\\n\")\n",
    "        \n",
    "        vbest = None\n",
    "        for v in V:\n",
    "            Vdash = list(V-{v})\n",
    "            betas_new = logistic_regression_backward(Xtrain[:,Vdash],Ytrain)\n",
    "            err = calculate_aic(Xvalid[:,Vdash], Yvalid, betas_new, len(Vdash))\n",
    "            \n",
    "            if err < e_valid:\n",
    "                \n",
    "                vbest = v\n",
    "                e_valid = err\n",
    "                e_train = calculate_aic(Xtrain[:, Vdash], Ytrain, betas_new, len(Vdash))\n",
    "                print(f\"\\n Reduced Aic(train):{e_train:.2f} Aic(valid):{e_valid:.2f} vars:{V}\\n\")\n",
    "\n",
    "                \n",
    "        if vbest is None:\n",
    "            break\n",
    "        V = V-{vbest}\n",
    "        return V"
   ]
  },
  {
   "cell_type": "markdown",
   "metadata": {},
   "source": [
    "### Running backward search to select model feature which minimizes aic."
   ]
  },
  {
   "cell_type": "code",
   "execution_count": 122,
   "metadata": {},
   "outputs": [
    {
     "name": "stdout",
     "output_type": "stream",
     "text": [
      "--- Backward Search Running ---\n",
      "Total 52 features in dataset!!!\n",
      "\n",
      "Aic(train):1402.15 Aic(valid):423.16 vars:{0, 1, 2, 3, 4, 5, 6, 7, 8, 9, 10, 11, 12, 13, 14, 15, 16, 17, 18, 19, 20, 21, 22, 23, 24, 25, 26, 27, 28, 29, 30, 31, 32, 33, 34, 35, 36, 37, 38, 39, 40, 41, 42, 43, 44, 45, 46, 47, 48, 49, 50, 51}\n",
      "\n",
      "\n",
      " Improved Aic(train):1377.81 Aic(valid):415.24 vars:{0, 1, 2, 3, 4, 5, 6, 7, 8, 9, 10, 11, 12, 13, 14, 15, 16, 17, 18, 19, 20, 21, 22, 23, 24, 25, 26, 27, 28, 29, 30, 31, 32, 33, 34, 35, 36, 37, 38, 39, 40, 41, 42, 43, 44, 45, 46, 47, 48, 49, 50, 51}\n",
      "\n",
      "\n",
      " Improved Aic(train):1088.45 Aic(valid):354.89 vars:{0, 1, 2, 3, 4, 5, 6, 7, 8, 9, 10, 11, 12, 13, 14, 15, 16, 17, 18, 19, 20, 21, 22, 23, 24, 25, 26, 27, 28, 29, 30, 31, 32, 33, 34, 35, 36, 37, 38, 39, 40, 41, 42, 43, 44, 45, 46, 47, 48, 49, 50, 51}\n",
      "\n"
     ]
    }
   ],
   "source": [
    "results = backward_search(Xtrain.to_numpy(), Ytrain, Xtest.to_numpy(), Ytest)"
   ]
  },
  {
   "cell_type": "markdown",
   "metadata": {},
   "source": [
    "### Now we will find and remove column from dataset that was not selected by backward search"
   ]
  },
  {
   "cell_type": "code",
   "execution_count": 124,
   "metadata": {},
   "outputs": [
    {
     "name": "stdout",
     "output_type": "stream",
     "text": [
      "{0, 1, 2, 3, 5, 6, 7, 8, 9, 10, 11, 12, 13, 14, 15, 16, 17, 18, 19, 20, 21, 22, 23, 24, 25, 26, 27, 28, 29, 30, 31, 32, 33, 34, 35, 36, 37, 38, 39, 40, 41, 42, 43, 44, 45, 46, 47, 48, 49, 50, 51}\n",
      "\n",
      "Column to remove {4}\n"
     ]
    }
   ],
   "source": [
    "print(results)\n",
    "orignal_cols = set(range(Xtrain.shape[1]))\n",
    "print(f\"\\nColumn to remove {orignal_cols-results}\")"
   ]
  },
  {
   "cell_type": "code",
   "execution_count": 125,
   "metadata": {},
   "outputs": [],
   "source": [
    "X_new=Xtrain.loc[:, Xtrain.columns != 'duration']\n",
    "X_new_t=Xtest.loc[:, Xtest.columns != 'duration']"
   ]
  },
  {
   "cell_type": "markdown",
   "metadata": {},
   "source": [
    "### Now again running the logistic regression with feature set as selected by backward search"
   ]
  },
  {
   "cell_type": "code",
   "execution_count": 126,
   "metadata": {},
   "outputs": [],
   "source": [
    "log_loss2 = logistic_regression_mini(X_new, Ytrain, X_new_t, Ytest)"
   ]
  },
  {
   "cell_type": "markdown",
   "metadata": {},
   "source": [
    "### Final Test Loss"
   ]
  },
  {
   "cell_type": "code",
   "execution_count": 127,
   "metadata": {},
   "outputs": [
    {
     "data": {
      "text/plain": [
       "127.15963644804717"
      ]
     },
     "execution_count": 127,
     "metadata": {},
     "output_type": "execute_result"
    }
   ],
   "source": [
    "log_loss2[-1]"
   ]
  },
  {
   "cell_type": "markdown",
   "metadata": {},
   "source": [
    "### Plotting Loglikelihood loss "
   ]
  },
  {
   "cell_type": "code",
   "execution_count": 128,
   "metadata": {},
   "outputs": [
    {
     "data": {
      "image/png": "[encoded data removed]",
      "text/plain": [
       "<Figure size 432x288 with 1 Axes>"
      ]
     },
     "metadata": {
      "needs_background": "light"
     },
     "output_type": "display_data"
    }
   ],
   "source": [
    "# visualising gradient descent \n",
    "plt.plot(log_loss2) \n",
    "plt.xlabel(\"Number of iterations\") \n",
    "plt.ylabel(\"Cost\") \n",
    "plt.show() "
   ]
  },
  {
   "cell_type": "markdown",
   "metadata": {},
   "source": [
    "##### When we run simple logistic regression algorithm with full dataset features, we got loss as 156.23. But when we run logistic regression algorithm with feature set selected by backward search, we got loss 127.15. This shows that backward selection search help us to select feautures that will make algorithm to converge better and reduce loss"
   ]
  },
  {
   "cell_type": "markdown",
   "metadata": {},
   "source": []
  }
 ],
 "metadata": {
  "kernelspec": {
   "display_name": "Python 3",
   "language": "python",
   "name": "python3"
  },
  "language_info": {
   "codemirror_mode": {
    "name": "ipython",
    "version": 3
   },
   "file_extension": ".py",
   "mimetype": "text/x-python",
   "name": "python",
   "nbconvert_exporter": "python",
   "pygments_lexer": "ipython3",
   "version": "3.7.7"
  }
 },
 "nbformat": 4,
 "nbformat_minor": 4
}

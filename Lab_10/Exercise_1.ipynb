{
 "cells": [
  {
   "cell_type": "markdown",
   "metadata": {},
   "source": [
    "## Importing Libraries"
   ]
  },
  {
   "cell_type": "code",
   "execution_count": 152,
   "metadata": {},
   "outputs": [],
   "source": [
    "import numpy as np\n",
    "import pandas as pd\n",
    "from matplotlib import pyplot as plt\n",
    "import math\n",
    "import pdb"
   ]
  },
  {
   "cell_type": "code",
   "execution_count": 153,
   "metadata": {},
   "outputs": [],
   "source": [
    "pd.set_option('mode.chained_assignment', None)"
   ]
  },
  {
   "cell_type": "markdown",
   "metadata": {},
   "source": [
    "## Name of columns of different files"
   ]
  },
  {
   "cell_type": "code",
   "execution_count": 154,
   "metadata": {},
   "outputs": [],
   "source": [
    "user_cols = ['user_id', 'age', 'sex', 'occupation', 'zip_code']\n",
    "rating_cols = ['user_id', 'movie_id', 'rating', 'timestamp']\n",
    "movie_cols = ['movie_id', 'title', 'release_date', 'video_release_date', 'imdb_url']"
   ]
  },
  {
   "cell_type": "markdown",
   "metadata": {},
   "source": [
    "## Read genres file to get list of name of columns in movie dataset"
   ]
  },
  {
   "cell_type": "code",
   "execution_count": 155,
   "metadata": {},
   "outputs": [],
   "source": [
    "genre =  pd.read_csv(\"u.genre\", sep='|', header=None, names = ['Name', 'Id'])\n",
    "genre_list = list(genre['Name'])"
   ]
  },
  {
   "cell_type": "markdown",
   "metadata": {},
   "source": [
    "## Read Dataset"
   ]
  },
  {
   "cell_type": "code",
   "execution_count": 156,
   "metadata": {},
   "outputs": [],
   "source": [
    "def read_data():\n",
    "    user_info = pd.read_csv(\"u.user\",sep='|',names=user_cols)\n",
    "    user_movie_data = pd.read_csv(\"u.data\",sep='\\t', names=rating_cols)\n",
    "    item_info = pd.read_csv(\"u.item\", sep='|', encoding='latin-1' , names= movie_cols + genre_list)\n",
    "    \n",
    "    movielens = pd.merge(user_info,user_movie_data)\n",
    "    movielens = pd.merge(movielens,item_info)\n",
    "    \n",
    "    return movielens"
   ]
  },
  {
   "cell_type": "code",
   "execution_count": 157,
   "metadata": {},
   "outputs": [
    {
     "data": {
      "text/html": [
       "<div>\n",
       "<style scoped>\n",
       "    .dataframe tbody tr th:only-of-type {\n",
       "        vertical-align: middle;\n",
       "    }\n",
       "\n",
       "    .dataframe tbody tr th {\n",
       "        vertical-align: top;\n",
       "    }\n",
       "\n",
       "    .dataframe thead th {\n",
       "        text-align: right;\n",
       "    }\n",
       "</style>\n",
       "<table border=\"1\" class=\"dataframe\">\n",
       "  <thead>\n",
       "    <tr style=\"text-align: right;\">\n",
       "      <th></th>\n",
       "      <th>user_id</th>\n",
       "      <th>age</th>\n",
       "      <th>sex</th>\n",
       "      <th>occupation</th>\n",
       "      <th>zip_code</th>\n",
       "      <th>movie_id</th>\n",
       "      <th>rating</th>\n",
       "      <th>timestamp</th>\n",
       "      <th>title</th>\n",
       "      <th>release_date</th>\n",
       "      <th>...</th>\n",
       "      <th>Fantasy</th>\n",
       "      <th>Film-Noir</th>\n",
       "      <th>Horror</th>\n",
       "      <th>Musical</th>\n",
       "      <th>Mystery</th>\n",
       "      <th>Romance</th>\n",
       "      <th>Sci-Fi</th>\n",
       "      <th>Thriller</th>\n",
       "      <th>War</th>\n",
       "      <th>Western</th>\n",
       "    </tr>\n",
       "  </thead>\n",
       "  <tbody>\n",
       "    <tr>\n",
       "      <th>0</th>\n",
       "      <td>1</td>\n",
       "      <td>24</td>\n",
       "      <td>M</td>\n",
       "      <td>technician</td>\n",
       "      <td>85711</td>\n",
       "      <td>61</td>\n",
       "      <td>4</td>\n",
       "      <td>878542420</td>\n",
       "      <td>Three Colors: White (1994)</td>\n",
       "      <td>01-Jan-1994</td>\n",
       "      <td>...</td>\n",
       "      <td>0</td>\n",
       "      <td>0</td>\n",
       "      <td>0</td>\n",
       "      <td>0</td>\n",
       "      <td>0</td>\n",
       "      <td>0</td>\n",
       "      <td>0</td>\n",
       "      <td>0</td>\n",
       "      <td>0</td>\n",
       "      <td>0</td>\n",
       "    </tr>\n",
       "    <tr>\n",
       "      <th>1</th>\n",
       "      <td>13</td>\n",
       "      <td>47</td>\n",
       "      <td>M</td>\n",
       "      <td>educator</td>\n",
       "      <td>29206</td>\n",
       "      <td>61</td>\n",
       "      <td>4</td>\n",
       "      <td>882140552</td>\n",
       "      <td>Three Colors: White (1994)</td>\n",
       "      <td>01-Jan-1994</td>\n",
       "      <td>...</td>\n",
       "      <td>0</td>\n",
       "      <td>0</td>\n",
       "      <td>0</td>\n",
       "      <td>0</td>\n",
       "      <td>0</td>\n",
       "      <td>0</td>\n",
       "      <td>0</td>\n",
       "      <td>0</td>\n",
       "      <td>0</td>\n",
       "      <td>0</td>\n",
       "    </tr>\n",
       "    <tr>\n",
       "      <th>2</th>\n",
       "      <td>18</td>\n",
       "      <td>35</td>\n",
       "      <td>F</td>\n",
       "      <td>other</td>\n",
       "      <td>37212</td>\n",
       "      <td>61</td>\n",
       "      <td>4</td>\n",
       "      <td>880130803</td>\n",
       "      <td>Three Colors: White (1994)</td>\n",
       "      <td>01-Jan-1994</td>\n",
       "      <td>...</td>\n",
       "      <td>0</td>\n",
       "      <td>0</td>\n",
       "      <td>0</td>\n",
       "      <td>0</td>\n",
       "      <td>0</td>\n",
       "      <td>0</td>\n",
       "      <td>0</td>\n",
       "      <td>0</td>\n",
       "      <td>0</td>\n",
       "      <td>0</td>\n",
       "    </tr>\n",
       "    <tr>\n",
       "      <th>3</th>\n",
       "      <td>58</td>\n",
       "      <td>27</td>\n",
       "      <td>M</td>\n",
       "      <td>programmer</td>\n",
       "      <td>52246</td>\n",
       "      <td>61</td>\n",
       "      <td>5</td>\n",
       "      <td>884305271</td>\n",
       "      <td>Three Colors: White (1994)</td>\n",
       "      <td>01-Jan-1994</td>\n",
       "      <td>...</td>\n",
       "      <td>0</td>\n",
       "      <td>0</td>\n",
       "      <td>0</td>\n",
       "      <td>0</td>\n",
       "      <td>0</td>\n",
       "      <td>0</td>\n",
       "      <td>0</td>\n",
       "      <td>0</td>\n",
       "      <td>0</td>\n",
       "      <td>0</td>\n",
       "    </tr>\n",
       "    <tr>\n",
       "      <th>4</th>\n",
       "      <td>59</td>\n",
       "      <td>49</td>\n",
       "      <td>M</td>\n",
       "      <td>educator</td>\n",
       "      <td>08403</td>\n",
       "      <td>61</td>\n",
       "      <td>4</td>\n",
       "      <td>888204597</td>\n",
       "      <td>Three Colors: White (1994)</td>\n",
       "      <td>01-Jan-1994</td>\n",
       "      <td>...</td>\n",
       "      <td>0</td>\n",
       "      <td>0</td>\n",
       "      <td>0</td>\n",
       "      <td>0</td>\n",
       "      <td>0</td>\n",
       "      <td>0</td>\n",
       "      <td>0</td>\n",
       "      <td>0</td>\n",
       "      <td>0</td>\n",
       "      <td>0</td>\n",
       "    </tr>\n",
       "  </tbody>\n",
       "</table>\n",
       "<p>5 rows × 31 columns</p>\n",
       "</div>"
      ],
      "text/plain": [
       "   user_id  age sex  occupation zip_code  movie_id  rating  timestamp  \\\n",
       "0        1   24   M  technician    85711        61       4  878542420   \n",
       "1       13   47   M    educator    29206        61       4  882140552   \n",
       "2       18   35   F       other    37212        61       4  880130803   \n",
       "3       58   27   M  programmer    52246        61       5  884305271   \n",
       "4       59   49   M    educator    08403        61       4  888204597   \n",
       "\n",
       "                        title release_date  ...  Fantasy Film-Noir  Horror  \\\n",
       "0  Three Colors: White (1994)  01-Jan-1994  ...        0         0       0   \n",
       "1  Three Colors: White (1994)  01-Jan-1994  ...        0         0       0   \n",
       "2  Three Colors: White (1994)  01-Jan-1994  ...        0         0       0   \n",
       "3  Three Colors: White (1994)  01-Jan-1994  ...        0         0       0   \n",
       "4  Three Colors: White (1994)  01-Jan-1994  ...        0         0       0   \n",
       "\n",
       "   Musical  Mystery  Romance  Sci-Fi  Thriller  War  Western  \n",
       "0        0        0        0       0         0    0        0  \n",
       "1        0        0        0       0         0    0        0  \n",
       "2        0        0        0       0         0    0        0  \n",
       "3        0        0        0       0         0    0        0  \n",
       "4        0        0        0       0         0    0        0  \n",
       "\n",
       "[5 rows x 31 columns]"
      ]
     },
     "execution_count": 157,
     "metadata": {},
     "output_type": "execute_result"
    }
   ],
   "source": [
    "movielens = read_data()\n",
    "movielens.head()"
   ]
  },
  {
   "cell_type": "markdown",
   "metadata": {},
   "source": [
    "## Part A)"
   ]
  },
  {
   "cell_type": "code",
   "execution_count": 158,
   "metadata": {},
   "outputs": [],
   "source": [
    "ratings_Across_user = movielens.groupby(['user_id'])['rating'].agg(['count']).sort_values(by='count', ascending=False).reset_index()\n",
    "ratings_Across_user = ratings_Across_user.rename(columns={'count':'RatingCount'})\n",
    "plt_data = ratings_Across_user.groupby(['RatingCount'])['user_id'].agg(['count']).reset_index()"
   ]
  },
  {
   "cell_type": "code",
   "execution_count": 159,
   "metadata": {},
   "outputs": [
    {
     "data": {
      "image/png": "[encoded data removed]",
      "text/plain": [
       "<Figure size 1800x720 with 1 Axes>"
      ]
     },
     "metadata": {
      "needs_background": "light"
     },
     "output_type": "display_data"
    }
   ],
   "source": [
    "f, ax = plt.subplots(figsize=(25,10))\n",
    "# Create bars\n",
    "plt.bar(plt_data['RatingCount'], plt_data['count'])\n",
    " \n",
    "# # Create labels\n",
    "ax.set_title('Number of Ratings per Number of Users')\n",
    "ax.set_xlabel('Number of Ratings')\n",
    "ax.set_ylabel('Number of Users')\n",
    " \n",
    "# Show graphic\n",
    "plt.show()\n"
   ]
  },
  {
   "cell_type": "markdown",
   "metadata": {},
   "source": [
    "## Part B)"
   ]
  },
  {
   "cell_type": "code",
   "execution_count": 160,
   "metadata": {},
   "outputs": [],
   "source": [
    "ratings_Across_movie = movielens.groupby(['movie_id'])['rating'].agg(['count']).sort_values(by='count', ascending=False).reset_index()\n",
    "ratings_Across_movie = ratings_Across_movie.rename(columns={'count':'RatingCount'})\n",
    "plt_data_movies = ratings_Across_movie.groupby(['RatingCount'])['movie_id'].agg(['count']).reset_index()"
   ]
  },
  {
   "cell_type": "code",
   "execution_count": 161,
   "metadata": {},
   "outputs": [
    {
     "data": {
      "image/png": "[encoded data removed]",
      "text/plain": [
       "<Figure size 1800x720 with 1 Axes>"
      ]
     },
     "metadata": {
      "needs_background": "light"
     },
     "output_type": "display_data"
    }
   ],
   "source": [
    "f, ax = plt.subplots(figsize=(25,10))\n",
    "# Create bars\n",
    "plt.bar(plt_data_movies['RatingCount'], plt_data_movies['count'])\n",
    " \n",
    "# # Create labels\n",
    "ax.set_title('Number of Ratings per Number of Movies/Items')\n",
    "ax.set_xlabel('Number of Ratings')\n",
    "ax.set_ylabel('Number of Movies/Items')\n",
    " \n",
    "# Show graphic\n",
    "plt.show()\n"
   ]
  },
  {
   "cell_type": "markdown",
   "metadata": {},
   "source": [
    "## Part C)"
   ]
  },
  {
   "cell_type": "code",
   "execution_count": 162,
   "metadata": {},
   "outputs": [],
   "source": [
    "movies_list = pd.read_csv(\"u.item\", sep='|', encoding='latin-1' , names= movie_cols + genre_list)\n",
    "user_info = pd.read_csv(\"u.user\",sep='|',names=user_cols)\n",
    "ratings  = pd.read_csv(\"u.data\",sep='\\t', names=rating_cols)"
   ]
  },
  {
   "cell_type": "code",
   "execution_count": 163,
   "metadata": {},
   "outputs": [],
   "source": [
    "# creating new column and setting it some random string\n",
    "movies_list['genres'] = 'unknown'"
   ]
  },
  {
   "cell_type": "code",
   "execution_count": 164,
   "metadata": {},
   "outputs": [],
   "source": [
    "for index, row in movies_list[genre_list].iterrows():\n",
    "    true_ind = np.array(row)\n",
    "    correct_genre = list(np.where(true_ind == 1)[0])\n",
    "    genre_array = np.array(genre_list)\n",
    "    all_genres = genre_array[correct_genre]\n",
    "    \n",
    "    names = all_genres[0]\n",
    "    for genres in all_genres[1:]:\n",
    "        names = names + '|' +  genres \n",
    "    movies_list.loc[index, 'genres'] = names\n",
    "\n",
    "movies_list_genres = movies_list[movies_list.columns.drop(genre_list)]\n",
    "movies_list_genres.genres = movies_list_genres.genres.str.split('|')\n",
    "movies = movies_list_genres.explode('genres')\n",
    "ratings = ratings.merge(movies, left_on='movie_id', right_on='movie_id', how='inner')\n",
    "genre_rt = ratings.groupby(['genres','rating'])['rating'].agg({'count'})\n",
    "df_grouped = genre_rt.reset_index()\n",
    "max_rating_genres = df_grouped.groupby(['genres'])['count'].agg({'max'})\n",
    "final_plot_data = df_grouped[df_grouped['count'].isin(list(max_rating_genres['max']))]"
   ]
  },
  {
   "cell_type": "code",
   "execution_count": 165,
   "metadata": {},
   "outputs": [
    {
     "data": {
      "image/png": "[encoded data removed]",
      "text/plain": [
       "<Figure size 1800x720 with 1 Axes>"
      ]
     },
     "metadata": {
      "needs_background": "light"
     },
     "output_type": "display_data"
    }
   ],
   "source": [
    "f, ax = plt.subplots(figsize=(25,10))\n",
    "# Create bars\n",
    "plt.bar(final_plot_data['genres'], final_plot_data['count'])\n",
    " \n",
    "# # Create labels\n",
    "ax.set_title('Genres per Number of Highest Ratings')\n",
    "ax.set_xlabel('Genres')\n",
    "ax.set_ylabel('Number of Highest Ratings')\n",
    " \n",
    "# Show graphic\n",
    "plt.show()"
   ]
  },
  {
   "cell_type": "markdown",
   "metadata": {},
   "source": [
    "## Part D)"
   ]
  },
  {
   "cell_type": "markdown",
   "metadata": {},
   "source": [
    "#### Here I have first added the new column age_group based on age of user. Then  grouped the data based on age_group, genres and rating. Then I counted the each rating and took maximum rating value based on its count.  "
   ]
  },
  {
   "cell_type": "code",
   "execution_count": 166,
   "metadata": {},
   "outputs": [
    {
     "data": {
      "text/html": [
       "<div>\n",
       "<style scoped>\n",
       "    .dataframe tbody tr th:only-of-type {\n",
       "        vertical-align: middle;\n",
       "    }\n",
       "\n",
       "    .dataframe tbody tr th {\n",
       "        vertical-align: top;\n",
       "    }\n",
       "\n",
       "    .dataframe thead th {\n",
       "        text-align: right;\n",
       "    }\n",
       "</style>\n",
       "<table border=\"1\" class=\"dataframe\">\n",
       "  <thead>\n",
       "    <tr style=\"text-align: right;\">\n",
       "      <th></th>\n",
       "      <th>user_id</th>\n",
       "      <th>movie_id</th>\n",
       "      <th>rating</th>\n",
       "      <th>timestamp</th>\n",
       "      <th>title</th>\n",
       "      <th>release_date</th>\n",
       "      <th>video_release_date</th>\n",
       "      <th>imdb_url</th>\n",
       "      <th>genres</th>\n",
       "      <th>age</th>\n",
       "      <th>sex</th>\n",
       "      <th>occupation</th>\n",
       "      <th>zip_code</th>\n",
       "    </tr>\n",
       "  </thead>\n",
       "  <tbody>\n",
       "    <tr>\n",
       "      <th>0</th>\n",
       "      <td>196</td>\n",
       "      <td>242</td>\n",
       "      <td>3</td>\n",
       "      <td>881250949</td>\n",
       "      <td>Kolya (1996)</td>\n",
       "      <td>24-Jan-1997</td>\n",
       "      <td>NaN</td>\n",
       "      <td>http://us.imdb.com/M/title-exact?Kolya%20(1996)</td>\n",
       "      <td>Comedy</td>\n",
       "      <td>49</td>\n",
       "      <td>M</td>\n",
       "      <td>writer</td>\n",
       "      <td>55105</td>\n",
       "    </tr>\n",
       "    <tr>\n",
       "      <th>1</th>\n",
       "      <td>196</td>\n",
       "      <td>257</td>\n",
       "      <td>2</td>\n",
       "      <td>881251577</td>\n",
       "      <td>Men in Black (1997)</td>\n",
       "      <td>04-Jul-1997</td>\n",
       "      <td>NaN</td>\n",
       "      <td>http://us.imdb.com/M/title-exact?Men+in+Black+...</td>\n",
       "      <td>Action</td>\n",
       "      <td>49</td>\n",
       "      <td>M</td>\n",
       "      <td>writer</td>\n",
       "      <td>55105</td>\n",
       "    </tr>\n",
       "    <tr>\n",
       "      <th>2</th>\n",
       "      <td>196</td>\n",
       "      <td>257</td>\n",
       "      <td>2</td>\n",
       "      <td>881251577</td>\n",
       "      <td>Men in Black (1997)</td>\n",
       "      <td>04-Jul-1997</td>\n",
       "      <td>NaN</td>\n",
       "      <td>http://us.imdb.com/M/title-exact?Men+in+Black+...</td>\n",
       "      <td>Adventure</td>\n",
       "      <td>49</td>\n",
       "      <td>M</td>\n",
       "      <td>writer</td>\n",
       "      <td>55105</td>\n",
       "    </tr>\n",
       "    <tr>\n",
       "      <th>3</th>\n",
       "      <td>196</td>\n",
       "      <td>257</td>\n",
       "      <td>2</td>\n",
       "      <td>881251577</td>\n",
       "      <td>Men in Black (1997)</td>\n",
       "      <td>04-Jul-1997</td>\n",
       "      <td>NaN</td>\n",
       "      <td>http://us.imdb.com/M/title-exact?Men+in+Black+...</td>\n",
       "      <td>Comedy</td>\n",
       "      <td>49</td>\n",
       "      <td>M</td>\n",
       "      <td>writer</td>\n",
       "      <td>55105</td>\n",
       "    </tr>\n",
       "    <tr>\n",
       "      <th>4</th>\n",
       "      <td>196</td>\n",
       "      <td>257</td>\n",
       "      <td>2</td>\n",
       "      <td>881251577</td>\n",
       "      <td>Men in Black (1997)</td>\n",
       "      <td>04-Jul-1997</td>\n",
       "      <td>NaN</td>\n",
       "      <td>http://us.imdb.com/M/title-exact?Men+in+Black+...</td>\n",
       "      <td>Sci-Fi</td>\n",
       "      <td>49</td>\n",
       "      <td>M</td>\n",
       "      <td>writer</td>\n",
       "      <td>55105</td>\n",
       "    </tr>\n",
       "  </tbody>\n",
       "</table>\n",
       "</div>"
      ],
      "text/plain": [
       "   user_id  movie_id  rating  timestamp                title release_date  \\\n",
       "0      196       242       3  881250949         Kolya (1996)  24-Jan-1997   \n",
       "1      196       257       2  881251577  Men in Black (1997)  04-Jul-1997   \n",
       "2      196       257       2  881251577  Men in Black (1997)  04-Jul-1997   \n",
       "3      196       257       2  881251577  Men in Black (1997)  04-Jul-1997   \n",
       "4      196       257       2  881251577  Men in Black (1997)  04-Jul-1997   \n",
       "\n",
       "   video_release_date                                           imdb_url  \\\n",
       "0                 NaN    http://us.imdb.com/M/title-exact?Kolya%20(1996)   \n",
       "1                 NaN  http://us.imdb.com/M/title-exact?Men+in+Black+...   \n",
       "2                 NaN  http://us.imdb.com/M/title-exact?Men+in+Black+...   \n",
       "3                 NaN  http://us.imdb.com/M/title-exact?Men+in+Black+...   \n",
       "4                 NaN  http://us.imdb.com/M/title-exact?Men+in+Black+...   \n",
       "\n",
       "      genres  age sex occupation zip_code  \n",
       "0     Comedy   49   M     writer    55105  \n",
       "1     Action   49   M     writer    55105  \n",
       "2  Adventure   49   M     writer    55105  \n",
       "3     Comedy   49   M     writer    55105  \n",
       "4     Sci-Fi   49   M     writer    55105  "
      ]
     },
     "execution_count": 166,
     "metadata": {},
     "output_type": "execute_result"
    }
   ],
   "source": [
    "com_lens = ratings.merge(user_info, left_on='user_id', right_on='user_id', how='inner')\n",
    "com_lens.head()"
   ]
  },
  {
   "cell_type": "code",
   "execution_count": 167,
   "metadata": {},
   "outputs": [
    {
     "data": {
      "text/html": [
       "<div>\n",
       "<style scoped>\n",
       "    .dataframe tbody tr th:only-of-type {\n",
       "        vertical-align: middle;\n",
       "    }\n",
       "\n",
       "    .dataframe tbody tr th {\n",
       "        vertical-align: top;\n",
       "    }\n",
       "\n",
       "    .dataframe thead th {\n",
       "        text-align: right;\n",
       "    }\n",
       "</style>\n",
       "<table border=\"1\" class=\"dataframe\">\n",
       "  <thead>\n",
       "    <tr style=\"text-align: right;\">\n",
       "      <th></th>\n",
       "      <th>Age-Group</th>\n",
       "      <th>Preferred Genres</th>\n",
       "    </tr>\n",
       "  </thead>\n",
       "  <tbody>\n",
       "    <tr>\n",
       "      <th>0</th>\n",
       "      <td>0-9</td>\n",
       "      <td>Comedy</td>\n",
       "    </tr>\n",
       "    <tr>\n",
       "      <th>1</th>\n",
       "      <td>10-19</td>\n",
       "      <td>Drama</td>\n",
       "    </tr>\n",
       "    <tr>\n",
       "      <th>2</th>\n",
       "      <td>20-29</td>\n",
       "      <td>Drama</td>\n",
       "    </tr>\n",
       "    <tr>\n",
       "      <th>3</th>\n",
       "      <td>30-39</td>\n",
       "      <td>Drama</td>\n",
       "    </tr>\n",
       "    <tr>\n",
       "      <th>4</th>\n",
       "      <td>40-49</td>\n",
       "      <td>Drama</td>\n",
       "    </tr>\n",
       "    <tr>\n",
       "      <th>5</th>\n",
       "      <td>50-59</td>\n",
       "      <td>Drama</td>\n",
       "    </tr>\n",
       "    <tr>\n",
       "      <th>6</th>\n",
       "      <td>60-69</td>\n",
       "      <td>Drama</td>\n",
       "    </tr>\n",
       "    <tr>\n",
       "      <th>7</th>\n",
       "      <td>70-79</td>\n",
       "      <td>Drama</td>\n",
       "    </tr>\n",
       "  </tbody>\n",
       "</table>\n",
       "</div>"
      ],
      "text/plain": [
       "  Age-Group Preferred Genres\n",
       "0       0-9           Comedy\n",
       "1     10-19            Drama\n",
       "2     20-29            Drama\n",
       "3     30-39            Drama\n",
       "4     40-49            Drama\n",
       "5     50-59            Drama\n",
       "6     60-69            Drama\n",
       "7     70-79            Drama"
      ]
     },
     "execution_count": 167,
     "metadata": {},
     "output_type": "execute_result"
    }
   ],
   "source": [
    "labels=['0-9','10-19','20-29','30-39','40-49','50-59','60-69','70-79']\n",
    "com_lens['age_group'] = pd.cut(com_lens.age, range(0, 81, 10), right=False, labels=labels)\n",
    "rating_count = com_lens.groupby(['age_group','genres','rating'])['rating'].agg({'count'}).reset_index()\n",
    "rating_max = rating_count.groupby(['age_group','genres'])['count'].agg({'max'}).reset_index()\n",
    "z = rating_max.groupby(['age_group'])['max'].agg({'max'}).reset_index()\n",
    "max_rating_genre = {}\n",
    "for i,j in zip(z['max'],z['age_group']):\n",
    "    max_rating_genre[j] = rating_max[(rating_max.age_group == j ) & (rating_max['max'] == i)]['genres'].item()\n",
    "plot_data = pd.DataFrame(max_rating_genre.items(), columns=['Age-Group', 'Preferred Genres'])\n",
    "plot_data"
   ]
  }
 ],
 "metadata": {
  "kernelspec": {
   "display_name": "Python 3",
   "language": "python",
   "name": "python3"
  },
  "language_info": {
   "codemirror_mode": {
    "name": "ipython",
    "version": 3
   },
   "file_extension": ".py",
   "mimetype": "text/x-python",
   "name": "python",
   "nbconvert_exporter": "python",
   "pygments_lexer": "ipython3",
   "version": "3.7.7"
  }
 },
 "nbformat": 4,
 "nbformat_minor": 4
}

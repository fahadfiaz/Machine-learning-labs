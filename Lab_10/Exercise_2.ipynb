{
 "cells": [
  {
   "cell_type": "markdown",
   "metadata": {},
   "source": [
    "## Importing Libraries"
   ]
  },
  {
   "cell_type": "code",
   "execution_count": 2,
   "metadata": {},
   "outputs": [],
   "source": [
    "### Run this cell to install surprise library that we will use in exercise 3\n",
    "# ! pip install scikit-surprise"
   ]
  },
  {
   "cell_type": "code",
   "execution_count": 1,
   "metadata": {},
   "outputs": [],
   "source": [
    "import matplotlib.pyplot as plt\n",
    "from scipy import sparse\n",
    "from sklearn.model_selection import train_test_split\n",
    "from sklearn.decomposition import NMF\n",
    "import numpy as np\n",
    "import pandas as pd\n",
    "import math\n",
    "from surprise import SVD\n",
    "from surprise import Dataset\n",
    "from surprise import accuracy\n",
    "from surprise.model_selection import train_test_split\n",
    "from surprise.model_selection import GridSearchCV\n",
    "from surprise.model_selection import cross_validate"
   ]
  },
  {
   "cell_type": "code",
   "execution_count": 2,
   "metadata": {},
   "outputs": [],
   "source": [
    "import warnings\n",
    "warnings.filterwarnings(\"ignore\")"
   ]
  },
  {
   "cell_type": "markdown",
   "metadata": {},
   "source": [
    "# Exercise 2\n",
    "##### In this task, matrix factorization has been implemented using Stochastic Gradient Descent.\n"
   ]
  },
  {
   "cell_type": "markdown",
   "metadata": {},
   "source": [
    "### Utility Functions"
   ]
  },
  {
   "cell_type": "code",
   "execution_count": 17,
   "metadata": {},
   "outputs": [],
   "source": [
    "def read_data():\n",
    "    movieLdf = pd.read_csv(\"u.data\", delimiter=\"\\t\", header=None)\n",
    "    movieLdf = movieLdf.drop(movieLdf.columns[3], axis=1)\n",
    "    return movieLdf"
   ]
  },
  {
   "cell_type": "code",
   "execution_count": 18,
   "metadata": {},
   "outputs": [],
   "source": [
    "def lossFn(data, p, q, lamda):\n",
    "    loss = 0\n",
    "    for x in data:\n",
    "        a = (x[2]-predict(p,q,x[0]-1,x[1]-1))*(x[2]-predict(p,q,x[0]-1,x[1]-1))\n",
    "        b = lamda * (np.dot(p[x[0]-1].T, p[x[0]-1]) + np.dot(q[x[1]-1].T, q[x[1]-1]))\n",
    "        loss = loss + ( a + b )\n",
    "    return loss"
   ]
  },
  {
   "cell_type": "code",
   "execution_count": 19,
   "metadata": {},
   "outputs": [],
   "source": [
    "def predict(p, q, user, item):\n",
    "    return np.dot(p[user].T, q[item])"
   ]
  },
  {
   "cell_type": "markdown",
   "metadata": {},
   "source": [
    "##### Following function has been created for Stochastic gradient descent algorithm (Algorithm LearnLatentFactors) as described on slide 29:"
   ]
  },
  {
   "cell_type": "code",
   "execution_count": 20,
   "metadata": {},
   "outputs": [],
   "source": [
    "def trainMF(data, valid, nUsers, nItems, learnR, lamda, factors, epochs, eps):\n",
    "    p = np.random.normal(size=((nUsers, factors)))\n",
    "    q = np.random.normal(size=((nItems, factors)))\n",
    "    \n",
    "    trainRMSE=[]\n",
    "    validRMSE=[]\n",
    "    for i in range(epochs):\n",
    "        np.random.shuffle(data)\n",
    "        prevFnV = lossFn(data, p, q, lamda)\n",
    "        for x in data:\n",
    "            l = x[2] - predict(p, q, x[0]-1, x[1]-1)\n",
    "\n",
    "            p[x[0]-1] = p[x[0]-1] + learnR * (l*q[x[1]-1] - lamda*p[x[0]-1])\n",
    "            q[x[1]-1] = q[x[0]-1] + learnR * (l*p[x[0]-1] - lamda*q[x[1]-1])\n",
    "            \n",
    "        trainRMSE.append(np.sqrt(np.mean(np.square(data[:,2] -\\\n",
    "                        [predict(p, q, x[0]-1, x[1]-1) for x in data]))))\n",
    "        \n",
    "        if valid is not None:\n",
    "            validRMSE.append(np.sqrt(np.mean(np.square(valid[:,2] -\\\n",
    "                            [predict(p, q, x[0]-1, x[1]-1) for x in valid]))))\n",
    "        \n",
    "        nextFnV = lossFn(data, p, q, lamda)\n",
    "        \n",
    "        if(np.abs(prevFnV-nextFnV) < eps):\n",
    "            break;\n",
    "            \n",
    "    return p, q, trainRMSE, validRMSE"
   ]
  },
  {
   "cell_type": "markdown",
   "metadata": {},
   "source": [
    "##### The following function is used for K-fold split:"
   ]
  },
  {
   "cell_type": "code",
   "execution_count": 21,
   "metadata": {},
   "outputs": [],
   "source": [
    "def cross_validation_split(dataset, folds=3):\n",
    "    dataset_split = list()\n",
    "    dataset_copy = np.copy(dataset)\n",
    "    fold_size = math.ceil(len(dataset) / folds)\n",
    "    for i in range(folds):\n",
    "        if (i < folds-1):\n",
    "            dataset_split.append(dataset_copy[i*fold_size:(i+1)*fold_size])\n",
    "        else:\n",
    "            dataset_split.append(dataset_copy[i*fold_size:len(dataset)])\n",
    "    return dataset_split"
   ]
  },
  {
   "cell_type": "markdown",
   "metadata": {},
   "source": [
    "##### Function to perform training using  LearnLatentFactors Algorithm"
   ]
  },
  {
   "cell_type": "code",
   "execution_count": 22,
   "metadata": {},
   "outputs": [],
   "source": [
    "def kFoldCV(data, factors, learnR, lamda, k, epochs, eps=0.001):\n",
    "    np.random.shuffle(data)\n",
    "    folds = cross_validation_split(data, k)\n",
    "    \n",
    "    listCVE = []\n",
    "    for i in range(len(folds)):\n",
    "        train = np.vstack([x for x in folds if x is not folds[i]])\n",
    "        valid = folds[i]\n",
    "\n",
    "        _, _, listTrainRMSE, listValidRMSE = trainMF(\\\n",
    "            data, valid, 943, 1682, learnR, lamda, factors, epochs, eps)\n",
    "            \n",
    "        listCVE.append(listValidRMSE[-1])\n",
    "    \n",
    "    return np.mean(listCVE)"
   ]
  },
  {
   "cell_type": "markdown",
   "metadata": {},
   "source": [
    "### Main Function"
   ]
  },
  {
   "cell_type": "code",
   "execution_count": 24,
   "metadata": {},
   "outputs": [],
   "source": [
    "movieLdf = read_data() ### read data"
   ]
  },
  {
   "cell_type": "code",
   "execution_count": 25,
   "metadata": {
    "scrolled": true
   },
   "outputs": [],
   "source": [
    "### Split the data into train and test set. The train set is further divided into train and validate set in kFoldCV function above \n",
    "\n",
    "trainData = movieLdf.values[0:int(0.9*100000)] \n",
    "testData = movieLdf.values[int(0.9*100000):]"
   ]
  },
  {
   "cell_type": "markdown",
   "metadata": {},
   "source": [
    "### Hyper paramters optimization to get best paramters that give use minimum rmse on validation set"
   ]
  },
  {
   "cell_type": "code",
   "execution_count": 26,
   "metadata": {},
   "outputs": [
    {
     "name": "stdout",
     "output_type": "stream",
     "text": [
      "n_Factors= 20  alpha= 0.005  lambda= 0.01\n",
      "RMSE on validation set =  1.0999056337461874\n",
      "n_Factors= 20  alpha= 0.005  lambda= 0.1\n",
      "RMSE on validation set =  1.069648250590203\n",
      "n_Factors= 20  alpha= 0.003  lambda= 0.01\n",
      "RMSE on validation set =  1.0661329946623537\n",
      "n_Factors= 20  alpha= 0.003  lambda= 0.1\n",
      "RMSE on validation set =  1.046282108508331\n",
      "n_Factors= 40  alpha= 0.005  lambda= 0.01\n",
      "RMSE on validation set =  1.10578560665887\n",
      "n_Factors= 40  alpha= 0.005  lambda= 0.1\n",
      "RMSE on validation set =  1.0865546917210298\n",
      "n_Factors= 40  alpha= 0.003  lambda= 0.01\n",
      "RMSE on validation set =  1.0721369953113398\n",
      "n_Factors= 40  alpha= 0.003  lambda= 0.1\n",
      "RMSE on validation set =  1.065423065430813\n"
     ]
    }
   ],
   "source": [
    "n_factors = [20, 40]\n",
    "listAlpha = [0.005, 0.003]\n",
    "listLamda = [0.01, 0.1]\n",
    "\n",
    "listRMSE = np.zeros((3, 3, 3))\n",
    "\n",
    "for i , factors in enumerate(n_factors):\n",
    "    for j, alpha in enumerate(listAlpha):\n",
    "        for k, lamda in enumerate(listLamda):\n",
    "            print(\"n_Factors=\", factors, \" alpha=\", alpha, \" lambda=\", lamda)\n",
    "            listRMSE[i, j, k] = kFoldCV(trainData, factors, alpha, lamda, 3, 10) #Using only train data which will be further divided into train and validate set inside the kFoldCV function\n",
    "            print(\"RMSE on validation set = \", listRMSE[i, j, k])"
   ]
  },
  {
   "cell_type": "markdown",
   "metadata": {},
   "source": [
    "### Above results shows that we got minimum RMSE on validation set with n_Factor=20, alpha= 0.003 and lambda= 0.1. So we will use these hyper paramters."
   ]
  },
  {
   "cell_type": "code",
   "execution_count": 27,
   "metadata": {
    "scrolled": true
   },
   "outputs": [],
   "source": [
    "p, q, listTrainRMSE, listTestRMSE = trainMF(trainData, testData, 943, 1682, 0.003, 0.1, 20, 50, 0.01) "
   ]
  },
  {
   "cell_type": "code",
   "execution_count": 28,
   "metadata": {},
   "outputs": [
    {
     "data": {
      "text/plain": [
       "<matplotlib.legend.Legend at 0x2c916bc1788>"
      ]
     },
     "execution_count": 28,
     "metadata": {},
     "output_type": "execute_result"
    },
    {
     "data": {
      "image/png": "[encoded data removed]",
      "text/plain": [
       "<Figure size 432x288 with 1 Axes>"
      ]
     },
     "metadata": {
      "needs_background": "light"
     },
     "output_type": "display_data"
    }
   ],
   "source": [
    "plt.plot(listTrainRMSE, label=\"train RMSE\")\n",
    "plt.plot(listTestRMSE, label=\"test RMSE\")\n",
    "plt.xlabel(\"epochs\")\n",
    "plt.ylabel(\"RMSE\")\n",
    "plt.legend()"
   ]
  },
  {
   "cell_type": "markdown",
   "metadata": {},
   "source": [
    "#### RMSE on test set"
   ]
  },
  {
   "cell_type": "code",
   "execution_count": 78,
   "metadata": {},
   "outputs": [
    {
     "data": {
      "text/plain": [
       "2.937676496510638"
      ]
     },
     "execution_count": 78,
     "metadata": {},
     "output_type": "execute_result"
    }
   ],
   "source": [
    "listTestRMSE[0] ###Rmse on test set"
   ]
  },
  {
   "cell_type": "markdown",
   "metadata": {},
   "source": [
    "<hr style=\"border:2px solid gray\"> </hr>"
   ]
  },
  {
   "cell_type": "markdown",
   "metadata": {},
   "source": [
    "# Exercise 3"
   ]
  },
  {
   "cell_type": "markdown",
   "metadata": {},
   "source": [
    "## Library 1 Surprise:\n",
    "\n",
    "Surprise is a Python scikit building and analyzing recommender systems.\n",
    "\n",
    " Users can use both built-in datasets (Movielens, Jester), and their own custom datasets.\n",
    "Provide various ready-to-use prediction algorithms such as baseline algorithms, neighborhood methods, matrix factorization-based ( SVD, PMF, SVD++, NMF), and many others. Also, various similarity measures (cosine, MSD, pearson…) are built-in.\n",
    "Provide tools to evaluate, analyse and compare the algorithms performance. Cross-validation procedures can be run very easily using powerful CV iterators (inspired by scikit-learn excellent tools), as well as exhaustive search over a set of parameters.\n",
    "The name SurPRISE (roughly :) ) stands for Simple Python RecommendatIon System Engine.\n",
    "\n",
    "We used SVD to solve the problem\n",
    "\n",
    "Singular value decomposition takes a rectangular matrix of gene expression data (defined as A, where A is a n x p matrix) in which the n rows represents the genes, and the p columns represents the experimental conditions. The SVD theorem states:\n",
    "\n",
    "A(nxp)= U(nxn) * S(nxp) * V.T(pxp)\n",
    "\n",
    "Where\n",
    "\n",
    "U.T*U = I(nxn)\n",
    "\n",
    "V.T*V = I(px)p  (i.e. U and V are orthogonal)\n",
    "\n",
    " \n",
    "\n",
    "Where the columns of U are the left singular vectors (gene coefficient vectors); S (the same dimensions as A) has singular values and is diagonal (mode amplitudes); and V.T has rows that are the right singular vectors (expression level vectors). The SVD represents an expansion of the original data in a coordinate system where the covariance matrix is diagonal.\n",
    "\n",
    " \n",
    "\n",
    "Calculating the SVD consists of finding the eigenvalues and eigenvectors of A*A.T and A.T*A. The eigenvectors of A.T*A make up the columns of V , the eigenvectors of A*A.T  make up the columns of U. Also, the singular values in S are square roots of eigenvalues from A*A.T or A.T*A.  The singular values are the diagonal entries of the S matrix and are arranged in descending order. The singular values are always real numbers. If the matrix A is a real matrix, then U and V are also real.\n",
    "\n",
    " "
   ]
  },
  {
   "cell_type": "markdown",
   "metadata": {},
   "source": [
    "## Loading and splitting the dataset"
   ]
  },
  {
   "cell_type": "code",
   "execution_count": 3,
   "metadata": {},
   "outputs": [
    {
     "name": "stdout",
     "output_type": "stream",
     "text": [
      "Dataset ml-100k could not be found. Do you want to download it? [Y/n] y\n",
      "Trying to download dataset from http://files.grouplens.org/datasets/movielens/ml-100k.zip...\n",
      "Done! Dataset ml-100k has been saved to C:\\Users\\fahad/.surprise_data/ml-100k\n"
     ]
    }
   ],
   "source": [
    "# Use movielens-100K\n",
    "data = Dataset.load_builtin('ml-100k')\n",
    "trainset, testset = train_test_split(data, test_size=.15)"
   ]
  },
  {
   "cell_type": "markdown",
   "metadata": {},
   "source": [
    "## Hyper parameter optimization"
   ]
  },
  {
   "cell_type": "code",
   "execution_count": 5,
   "metadata": {},
   "outputs": [
    {
     "name": "stdout",
     "output_type": "stream",
     "text": [
      "0.9228534951706099\n",
      "{'n_factors': 120, 'n_epochs': 30, 'lr_all': 0.008, 'reg_all': 0.1}\n",
      "Evaluating RMSE of algorithm SVD on 3 split(s).\n",
      "\n",
      "                  Fold 1  Fold 2  Fold 3  Mean    Std     \n",
      "RMSE (testset)    0.9209  0.9228  0.9278  0.9238  0.0029  \n",
      "Fit time          7.90    7.88    7.88    7.89    0.01    \n",
      "Test time         0.36    0.27    0.27    0.30    0.04    \n"
     ]
    },
    {
     "data": {
      "text/plain": [
       "{'test_rmse': array([0.92090295, 0.92281803, 0.92775973]),\n",
       " 'fit_time': (7.896497488021851, 7.8844685554504395, 7.881486654281616),\n",
       " 'test_time': (0.364790678024292, 0.27086424827575684, 0.2698338031768799)}"
      ]
     },
     "execution_count": 5,
     "metadata": {},
     "output_type": "execute_result"
    }
   ],
   "source": [
    "# ----- SVD ----- #\n",
    "\n",
    "param_grid = {'n_factors': [120, 140, 160], 'n_epochs': [30], 'lr_all': [0.003, 0.005, 0.008],\n",
    "              'reg_all': [0.08, 0.1, 0.15]}\n",
    "gs = GridSearchCV(SVD, param_grid, measures=['rmse'], cv=3)\n",
    "gs.fit(data)\n",
    "algo = gs.best_estimator['rmse']\n",
    "print(gs.best_score['rmse'])\n",
    "print(gs.best_params['rmse'])\n",
    "cross_validate(algo, data, measures=['RMSE'], cv=3, verbose=True)"
   ]
  },
  {
   "cell_type": "markdown",
   "metadata": {},
   "source": [
    "### Using the optimal hyper paramters with SVD for matrix factorization "
   ]
  },
  {
   "cell_type": "code",
   "execution_count": 7,
   "metadata": {},
   "outputs": [
    {
     "name": "stdout",
     "output_type": "stream",
     "text": [
      "SVD : Test Set\n",
      "RMSE: 0.9103\n"
     ]
    },
    {
     "data": {
      "text/plain": [
       "0.9102689311896246"
      ]
     },
     "execution_count": 7,
     "metadata": {},
     "output_type": "execute_result"
    }
   ],
   "source": [
    "# Use the new parameters with the train data and fit the model\n",
    "algo = SVD(n_factors=120, n_epochs=30, lr_all=0.008, reg_all=0.1)\n",
    "algo.fit(trainset)\n",
    "\n",
    "#Now do the prediction on test set\n",
    "test_pred = algo.test(testset)\n",
    "print(\"SVD : Test Set\")\n",
    "accuracy.rmse(test_pred, verbose=True)"
   ]
  },
  {
   "cell_type": "markdown",
   "metadata": {},
   "source": [
    "### Library 2 Scikit Learn"
   ]
  },
  {
   "cell_type": "markdown",
   "metadata": {},
   "source": [
    "### Non-Negative Matrix Factorization (NMF)\n",
    "\n",
    "Find two non-negative matrices (W, H) whose product approximates the non- negative matrix X. This factorization can be used for example for dimensionality reduction, source separation or topic extraction.\n",
    "\n",
    "The objective function is:\n",
    "\n",
    "0.5 * ||X - WH||_Fro^2\n",
    "+ alpha * l1_ratio * ||vec(W)||_1\n",
    "+ alpha * l1_ratio * ||vec(H)||_1\n",
    "+ 0.5 * alpha * (1 - l1_ratio) * ||W||_Fro^2\n",
    "+ 0.5 * alpha * (1 - l1_ratio) * ||H||_Fro^2\n",
    "Where:\n",
    "\n",
    "||A||_Fro^2 = \\sum_{i,j} A_{ij}^2 (Frobenius norm)\n",
    "||vec(A)||_1 = \\sum_{i,j} abs(A_{ij}) (Elementwise L1 norm)\n",
    "For multiplicative-update (‘mu’) solver, the Frobenius norm (0.5 * ||X - WH||_Fro^2) can be changed into another beta-divergence loss, by changing the beta_loss parameter.\n",
    "\n",
    "The objective function is minimized with an alternating minimization of W and H.\n",
    "\n",
    "It uses Coordinate Descent (CD)."
   ]
  },
  {
   "cell_type": "markdown",
   "metadata": {},
   "source": [
    "### Utility Functions"
   ]
  },
  {
   "cell_type": "code",
   "execution_count": 64,
   "metadata": {},
   "outputs": [],
   "source": [
    "def cross_validation_split(dataset, folds=3):\n",
    "    dataset_split = list()\n",
    "    dataset_copy = np.copy(dataset)\n",
    "    fold_size = math.ceil(len(dataset) / folds)\n",
    "    for i in range(folds):\n",
    "        if (i < folds-1):\n",
    "            dataset_split.append(dataset_copy[i*fold_size:(i+1)*fold_size])\n",
    "        else:\n",
    "            dataset_split.append(dataset_copy[i*fold_size:len(dataset)])\n",
    "    return dataset_split"
   ]
  },
  {
   "cell_type": "code",
   "execution_count": 65,
   "metadata": {},
   "outputs": [],
   "source": [
    "def kFoldCV1(R, data, factors, lamda, k):\n",
    "    np.random.shuffle(data)\n",
    "    folds = cross_validation_split(data, k)\n",
    "    \n",
    "    listCVE = []\n",
    "    for i in range(len(folds)):\n",
    "        train = np.vstack([x for x in folds if x is not folds[i]])\n",
    "        valid = folds[i]\n",
    "        \n",
    "        RCopy = R.copy()\n",
    "        for x in valid:\n",
    "            RCopy[x[0]-1, x[1]-1] = 0\n",
    "\n",
    "        model = NMF(n_components=factors, init='random', alpha=lamda)\n",
    "        W = model.fit_transform(RCopy)\n",
    "        H = model.components_\n",
    "        \n",
    "        R_pred = np.dot(W, H)\n",
    "        \n",
    "        rmse = 0\n",
    "        for x in valid:\n",
    "            rmse += (x[2] - R_pred[x[0]-1, x[1]-1])**2\n",
    "        rmse /= valid.shape[0]\n",
    "        rmse = np.sqrt(rmse)\n",
    "            \n",
    "        listCVE.append(rmse)\n",
    "    \n",
    "    return np.mean(listCVE)"
   ]
  },
  {
   "cell_type": "markdown",
   "metadata": {},
   "source": [
    "### Reading Data"
   ]
  },
  {
   "cell_type": "code",
   "execution_count": 66,
   "metadata": {},
   "outputs": [],
   "source": [
    "movieLdf = pd.read_csv(\"u.data\", delimiter=\"\\t\", header=None)\n",
    "movieLdf = movieLdf.drop(movieLdf.columns[3], axis=1)"
   ]
  },
  {
   "cell_type": "code",
   "execution_count": 67,
   "metadata": {},
   "outputs": [],
   "source": [
    "new_df = movieLdf.pivot(index = 0, columns = 1, values = 2).fillna(0).values"
   ]
  },
  {
   "cell_type": "markdown",
   "metadata": {},
   "source": [
    "### Splitting the dataset"
   ]
  },
  {
   "cell_type": "code",
   "execution_count": 68,
   "metadata": {},
   "outputs": [],
   "source": [
    "### Split the data into train and test set. The train set is further divided into train and validate set in kFoldCV1 function above \n",
    "\n",
    "trn , tst = train_test_split(movieLdf, test_size = 0.3)"
   ]
  },
  {
   "cell_type": "code",
   "execution_count": 69,
   "metadata": {},
   "outputs": [],
   "source": [
    "for x in tst.values:\n",
    "    new_df[x[0]-1, x[1]-1] = 0"
   ]
  },
  {
   "cell_type": "markdown",
   "metadata": {},
   "source": [
    "### Hyper paramter optimization with  3-folds cross validation "
   ]
  },
  {
   "cell_type": "code",
   "execution_count": 70,
   "metadata": {},
   "outputs": [
    {
     "name": "stdout",
     "output_type": "stream",
     "text": [
      "Validataion RMSE is \n",
      "\n",
      "\n",
      "n_Factors= 2  lambda= 0.001\n",
      "RMSE= 3.168940044834376\n",
      "n_Factors= 2  lambda= 0.1\n",
      "RMSE= 3.170897553576435\n",
      "n_Factors= 4  lambda= 0.001\n",
      "RMSE= 3.1051451443952733\n",
      "n_Factors= 4  lambda= 0.1\n",
      "RMSE= 3.1054734527947514\n",
      "n_Factors= 5  lambda= 0.001\n",
      "RMSE= 3.090639067795783\n",
      "n_Factors= 5  lambda= 0.1\n",
      "RMSE= 3.0933526522721304\n",
      "n_Factors= 7  lambda= 0.001\n",
      "RMSE= 3.0706652153821588\n",
      "n_Factors= 7  lambda= 0.1\n",
      "RMSE= 3.075249407530737\n",
      "n_Factors= 9  lambda= 0.001\n",
      "RMSE= 3.070228741203023\n",
      "n_Factors= 9  lambda= 0.1\n",
      "RMSE= 3.0747962556417403\n",
      "n_Factors= 11  lambda= 0.001\n",
      "RMSE= 3.07129432249428\n",
      "n_Factors= 11  lambda= 0.1\n",
      "RMSE= 3.077932790032984\n",
      "n_Factors= 15  lambda= 0.001\n",
      "RMSE= 3.085845518297336\n",
      "n_Factors= 15  lambda= 0.1\n",
      "RMSE= 3.08697013427585\n",
      "n_Factors= 20  lambda= 0.001\n",
      "RMSE= 3.10654914748768\n",
      "n_Factors= 20  lambda= 0.1\n",
      "RMSE= 3.109057918116239\n",
      "n_Factors= 80  lambda= 0.001\n",
      "RMSE= 3.27823543830746\n",
      "n_Factors= 80  lambda= 0.1\n",
      "RMSE= 3.27645402958872\n",
      "n_Factors= 160  lambda= 0.001\n",
      "RMSE= 3.4124761577735527\n",
      "n_Factors= 160  lambda= 0.1\n",
      "RMSE= 3.410512619115572\n"
     ]
    }
   ],
   "source": [
    "\n",
    "n_factors = [2, 4, 5, 7, 9 , 11, 15, 20, 80, 160]\n",
    "listLamda = [0.001, 0.1]\n",
    "\n",
    "listRMSE = np.zeros((10, 2))\n",
    "\n",
    "print(\"Validataion RMSE is \\n\\n\")\n",
    "for i , factors in enumerate(n_factors):\n",
    "        for j, lamda in enumerate(listLamda):\n",
    "            print(\"n_Factors=\", factors, \" lambda=\", lamda)\n",
    "            listRMSE[i, j] = kFoldCV1(new_df, trn.values, factors, lamda, 3)\n",
    "            print(\"RMSE=\", listRMSE[i, j])"
   ]
  },
  {
   "cell_type": "markdown",
   "metadata": {},
   "source": [
    "#### Above results shows that we got minimum RMSE on validation set with n_Factor=9, alpha= 0.001. So we will use these hyper paramters."
   ]
  },
  {
   "cell_type": "code",
   "execution_count": 71,
   "metadata": {},
   "outputs": [],
   "source": [
    "model = NMF(n_components=9, init='random', alpha=0.001)\n",
    "W = model.fit_transform(new_df)\n",
    "H = model.components_"
   ]
  },
  {
   "cell_type": "code",
   "execution_count": 72,
   "metadata": {},
   "outputs": [
    {
     "name": "stdout",
     "output_type": "stream",
     "text": [
      "RMSE on test set is\n"
     ]
    },
    {
     "data": {
      "text/plain": [
       "2.763689353496737"
      ]
     },
     "execution_count": 72,
     "metadata": {},
     "output_type": "execute_result"
    }
   ],
   "source": [
    "r = np.dot(W,H)\n",
    "print(\"RMSE on test set is\")\n",
    "np.sqrt(np.mean(np.square(tst.values[:,2] -\\\n",
    "                [r[x[0]-1, x[1]-1] for x in tst.values])))"
   ]
  },
  {
   "cell_type": "markdown",
   "metadata": {},
   "source": [
    "#### My naive implementation of matrix factorization give 2.9 Rmse on test set, build in library sci-learn matrix factorization which gives 2.7 Rmse on test set  as compared to sci-learn surprise library which give 0.9 Rmse on test set. This shows that Surprise's SVD is performing best with with RMSE of 0.9. "
   ]
  },
  {
   "cell_type": "code",
   "execution_count": null,
   "metadata": {},
   "outputs": [],
   "source": []
  }
 ],
 "metadata": {
  "kernelspec": {
   "display_name": "Python 3",
   "language": "python",
   "name": "python3"
  },
  "language_info": {
   "codemirror_mode": {
    "name": "ipython",
    "version": 3
   },
   "file_extension": ".py",
   "mimetype": "text/x-python",
   "name": "python",
   "nbconvert_exporter": "python",
   "pygments_lexer": "ipython3",
   "version": "3.7.7"
  }
 },
 "nbformat": 4,
 "nbformat_minor": 2
}
